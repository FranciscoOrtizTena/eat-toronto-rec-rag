{
 "cells": [
  {
   "cell_type": "code",
   "execution_count": 1,
   "id": "0eaedcdd-77d0-49d0-afa7-680f2435df48",
   "metadata": {},
   "outputs": [],
   "source": [
    "import pandas as pd"
   ]
  },
  {
   "cell_type": "code",
   "execution_count": 2,
   "id": "ceb1cb58-1d4e-4380-b63f-d3bbfca7e9c9",
   "metadata": {},
   "outputs": [
    {
     "name": "stdout",
     "output_type": "stream",
     "text": [
      "--2024-09-07 01:15:03--  https://raw.githubusercontent.com/alexeygrigorev/minsearch/main/minsearch.py\n",
      "Resolving raw.githubusercontent.com (raw.githubusercontent.com)... 185.199.110.133, 185.199.109.133, 185.199.111.133, ...\n",
      "Connecting to raw.githubusercontent.com (raw.githubusercontent.com)|185.199.110.133|:443... connected.\n",
      "HTTP request sent, awaiting response... 200 OK\n",
      "Length: 3832 (3.7K) [text/plain]\n",
      "Saving to: ‘minsearch.py.2’\n",
      "\n",
      "minsearch.py.2      100%[===================>]   3.74K  --.-KB/s    in 0s      \n",
      "\n",
      "2024-09-07 01:15:04 (39.2 MB/s) - ‘minsearch.py.2’ saved [3832/3832]\n",
      "\n"
     ]
    }
   ],
   "source": [
    "!wget https://raw.githubusercontent.com/alexeygrigorev/minsearch/main/minsearch.py"
   ]
  },
  {
   "cell_type": "markdown",
   "id": "3635eb85-13c2-4cc2-8a55-34b9747d1bbe",
   "metadata": {},
   "source": [
    "## Ingestion"
   ]
  },
  {
   "cell_type": "code",
   "execution_count": 3,
   "id": "58c66ba6-7e69-4c35-abe0-70721f52c351",
   "metadata": {},
   "outputs": [],
   "source": [
    "df = pd.read_csv('../data/clean_data.csv')\n",
    "df.columns = df.columns.str.lower()\n",
    "df = df.dropna(subset=['primarytype'])"
   ]
  },
  {
   "cell_type": "code",
   "execution_count": 4,
   "id": "b8779b7f-96b0-49c5-857f-1ae14a5e1c1f",
   "metadata": {},
   "outputs": [
    {
     "data": {
      "text/plain": [
       "Index(['id', 'nationalphonenumber', 'formattedaddress', 'rating', 'websiteuri',\n",
       "       'regularopeninghours', 'displayname', 'primarytype', 'editorialsummary',\n",
       "       'reviews'],\n",
       "      dtype='object')"
      ]
     },
     "execution_count": 4,
     "metadata": {},
     "output_type": "execute_result"
    }
   ],
   "source": [
    "df.columns"
   ]
  },
  {
   "cell_type": "code",
   "execution_count": 5,
   "id": "9633e00b-72f9-4260-959f-c587f5ef931c",
   "metadata": {},
   "outputs": [],
   "source": [
    "documents = df.to_dict(orient='records')"
   ]
  },
  {
   "cell_type": "code",
   "execution_count": 6,
   "id": "fed58664-8358-49c2-9192-80be6a15c583",
   "metadata": {},
   "outputs": [],
   "source": [
    "import minsearch"
   ]
  },
  {
   "cell_type": "code",
   "execution_count": 7,
   "id": "35e5bb01-baec-401e-b248-26b25f26995c",
   "metadata": {},
   "outputs": [],
   "source": [
    "index = minsearch.Index(\n",
    "    text_fields=['primarytype','reviews'],\n",
    "    keyword_fields=['id']\n",
    ")"
   ]
  },
  {
   "cell_type": "code",
   "execution_count": 8,
   "id": "4f8257bb-48bc-4661-b71d-f8ea3ca733b7",
   "metadata": {},
   "outputs": [
    {
     "data": {
      "text/plain": [
       "<minsearch.Index at 0x7afccb2e8560>"
      ]
     },
     "execution_count": 8,
     "metadata": {},
     "output_type": "execute_result"
    }
   ],
   "source": [
    "index.fit(documents)"
   ]
  },
  {
   "cell_type": "markdown",
   "id": "62d6f25f-be29-4615-bc5a-a85ce04df797",
   "metadata": {},
   "source": [
    "## RAG flow"
   ]
  },
  {
   "cell_type": "code",
   "execution_count": 9,
   "id": "02840b6d-de7f-4bff-94af-fc04d6499bfe",
   "metadata": {},
   "outputs": [],
   "source": [
    "from openai import OpenAI\n",
    "\n",
    "client = OpenAI()"
   ]
  },
  {
   "cell_type": "code",
   "execution_count": 10,
   "id": "d67aeab2-1167-4817-8070-04b1573fc913",
   "metadata": {},
   "outputs": [],
   "source": [
    "def search(query):\n",
    "    boost = {}\n",
    "\n",
    "    results = index.search(\n",
    "        query=query,\n",
    "        filter_dict={},\n",
    "        boost_dict=boost,\n",
    "        num_results=10\n",
    "    )\n",
    "\n",
    "    return results"
   ]
  },
  {
   "cell_type": "code",
   "execution_count": 11,
   "id": "9ef57915-9eee-4990-bbdd-d58922855615",
   "metadata": {},
   "outputs": [],
   "source": [
    "prompt_template = \"\"\"\n",
    "You're an expert in Toronto restaurants. Make three recommendations to the QUERY based on the CONTEXT from our restaurant database.\n",
    "Use only the facts from the CONTEXT when making a recommendation. If possible mention the direction, displayname, and phone of the restaurant.\n",
    "Do not use bold or italics.\n",
    "\n",
    "QUERY: {question}\n",
    "\n",
    "CONTEXT:\n",
    "{context}\n",
    "\"\"\".strip()\n",
    "\n",
    "entry_template = \"\"\"\n",
    "nationalphonenumber: {nationalphonenumber}\n",
    "formattedaddress: {formattedaddress}\n",
    "rating: {rating}\n",
    "displayname: {displayname}\n",
    "primarytype: {primarytype}\n",
    "editorialsummary: {editorialsummary}\n",
    "reviews: {reviews}\n",
    "\"\"\".strip()\n",
    "\n",
    "def build_prompt(query, search_results):\n",
    "    context = \"\"\n",
    "    \n",
    "    for doc in search_results:\n",
    "        context = context + entry_template.format(**doc) + \"\\n\\n\"\n",
    "\n",
    "    prompt = prompt_template.format(question=query, context=context).strip()\n",
    "    return prompt"
   ]
  },
  {
   "cell_type": "code",
   "execution_count": 12,
   "id": "55bcb9e6-a1be-4e60-9620-a1ee1feb325f",
   "metadata": {},
   "outputs": [],
   "source": [
    "def llm(prompt, model='gpt-4o-mini'):\n",
    "    response = client.chat.completions.create(\n",
    "        model=model,\n",
    "        messages=[{\"role\": \"user\", \"content\": prompt}]\n",
    "    )\n",
    "    \n",
    "    return response.choices[0].message.content"
   ]
  },
  {
   "cell_type": "code",
   "execution_count": 13,
   "id": "b13e7573-6946-41c8-824d-b881ee2a4325",
   "metadata": {},
   "outputs": [],
   "source": [
    "def rag(query, model='gpt-4o-mini'):\n",
    "    search_results = search(query)\n",
    "    prompt = build_prompt(query, search_results)\n",
    "    #print(prompt)\n",
    "    answer = llm(prompt, model=model)\n",
    "    return answer"
   ]
  },
  {
   "cell_type": "code",
   "execution_count": 85,
   "id": "516ea169-62a0-45a2-9029-3716654dfebc",
   "metadata": {
    "scrolled": true
   },
   "outputs": [
    {
     "name": "stdout",
     "output_type": "stream",
     "text": [
      "Here are three vegan-friendly options for ice cream in Toronto:\n",
      "\n",
      "1. Soy Boys\n",
      "   Location: 471 Church St, Toronto, ON M4Y 2C5, Canada\n",
      "   Phone: (416) 944-3289\n",
      "   This restaurant is renowned for its impressive selection of vegan dishes and features delightful soft serve ice cream for a sweet finish. It's an ideal spot for a casual outing where you can enjoy the warm and friendly atmosphere alongside delicious fast food options.\n",
      "\n",
      "2. Vital-Life Vegan Rastarant\n",
      "   Location: 360 Broadview Ave, Toronto, ON M4M 2G9, Canada\n",
      "   Phone: (416) 778-4890\n",
      "   This cozy eatery offers a variety of vegan options, and while they focus on hearty meals, many patrons recommend visiting for delightful treats that might accompany their savory dishes. It's a great place to experience delicious vegan cuisine.\n",
      "\n",
      "3. Kupfert & Kim\n",
      "   Location: 140 Spadina Ave., Toronto, ON M5V 2L4, Canada\n",
      "   Phone: (416) 504-2206\n",
      "   Known for its plant-based menu that includes a range of healthier options, this quick-service spot has a serene atmosphere and offers desserts like chocolate-dipped macaroons that could satisfy your sweet cravings, including vegan ice cream alternatives.\n"
     ]
    }
   ],
   "source": [
    "query = 'I want an icecream but Im vegan'\n",
    "answer = rag(query)\n",
    "print(answer)"
   ]
  },
  {
   "cell_type": "markdown",
   "id": "a1a0fc52-195b-4039-8341-7453459e9feb",
   "metadata": {},
   "source": [
    "## Retrieval Evaluation"
   ]
  },
  {
   "cell_type": "code",
   "execution_count": 15,
   "id": "fb5cc296-5fe6-4ad6-ba7e-5625ab2cdc8a",
   "metadata": {},
   "outputs": [],
   "source": [
    "df_question = pd.read_csv('../data/ground-truth-retrieval.csv')"
   ]
  },
  {
   "cell_type": "code",
   "execution_count": 16,
   "id": "33f10d23-2294-459e-a579-c6c1e83ee8b2",
   "metadata": {},
   "outputs": [
    {
     "data": {
      "text/html": [
       "<div>\n",
       "<style scoped>\n",
       "    .dataframe tbody tr th:only-of-type {\n",
       "        vertical-align: middle;\n",
       "    }\n",
       "\n",
       "    .dataframe tbody tr th {\n",
       "        vertical-align: top;\n",
       "    }\n",
       "\n",
       "    .dataframe thead th {\n",
       "        text-align: right;\n",
       "    }\n",
       "</style>\n",
       "<table border=\"1\" class=\"dataframe\">\n",
       "  <thead>\n",
       "    <tr style=\"text-align: right;\">\n",
       "      <th></th>\n",
       "      <th>id</th>\n",
       "      <th>queries</th>\n",
       "    </tr>\n",
       "  </thead>\n",
       "  <tbody>\n",
       "    <tr>\n",
       "      <th>0</th>\n",
       "      <td>ChIJ2e-AEyMzK4gRC3Ta0xpNT2s</td>\n",
       "      <td>looking for a retro diner experience with brea...</td>\n",
       "    </tr>\n",
       "    <tr>\n",
       "      <th>1</th>\n",
       "      <td>ChIJ2e-AEyMzK4gRC3Ta0xpNT2s</td>\n",
       "      <td>want a cozy place for brunch with generous por...</td>\n",
       "    </tr>\n",
       "    <tr>\n",
       "      <th>2</th>\n",
       "      <td>ChIJ2e-AEyMzK4gRC3Ta0xpNT2s</td>\n",
       "      <td>craving light and fluffy pancakes in a nostalg...</td>\n",
       "    </tr>\n",
       "    <tr>\n",
       "      <th>3</th>\n",
       "      <td>ChIJ2e-AEyMzK4gRC3Ta0xpNT2s</td>\n",
       "      <td>interested in excellent service and welcoming ...</td>\n",
       "    </tr>\n",
       "    <tr>\n",
       "      <th>4</th>\n",
       "      <td>ChIJ2e-AEyMzK4gRC3Ta0xpNT2s</td>\n",
       "      <td>seeking savory dishes like eggs benedict and s...</td>\n",
       "    </tr>\n",
       "  </tbody>\n",
       "</table>\n",
       "</div>"
      ],
      "text/plain": [
       "                            id  \\\n",
       "0  ChIJ2e-AEyMzK4gRC3Ta0xpNT2s   \n",
       "1  ChIJ2e-AEyMzK4gRC3Ta0xpNT2s   \n",
       "2  ChIJ2e-AEyMzK4gRC3Ta0xpNT2s   \n",
       "3  ChIJ2e-AEyMzK4gRC3Ta0xpNT2s   \n",
       "4  ChIJ2e-AEyMzK4gRC3Ta0xpNT2s   \n",
       "\n",
       "                                             queries  \n",
       "0  looking for a retro diner experience with brea...  \n",
       "1  want a cozy place for brunch with generous por...  \n",
       "2  craving light and fluffy pancakes in a nostalg...  \n",
       "3  interested in excellent service and welcoming ...  \n",
       "4  seeking savory dishes like eggs benedict and s...  "
      ]
     },
     "execution_count": 16,
     "metadata": {},
     "output_type": "execute_result"
    }
   ],
   "source": [
    "df_question.head()"
   ]
  },
  {
   "cell_type": "code",
   "execution_count": 17,
   "id": "5181cbbc-262d-49fd-87f8-726f76875ff7",
   "metadata": {},
   "outputs": [],
   "source": [
    "ground_truth = df_question.to_dict(orient='records')"
   ]
  },
  {
   "cell_type": "code",
   "execution_count": 18,
   "id": "1c842f76-f86e-4b82-b192-d431e0a67445",
   "metadata": {},
   "outputs": [
    {
     "data": {
      "text/plain": [
       "{'id': 'ChIJ2e-AEyMzK4gRC3Ta0xpNT2s',\n",
       " 'queries': 'looking for a retro diner experience with breakfast options'}"
      ]
     },
     "execution_count": 18,
     "metadata": {},
     "output_type": "execute_result"
    }
   ],
   "source": [
    "ground_truth[0]"
   ]
  },
  {
   "cell_type": "code",
   "execution_count": 19,
   "id": "d098cd5c-c85d-4d90-9ef6-cef1cdb058d1",
   "metadata": {},
   "outputs": [],
   "source": [
    "def hit_rate(relevance_total):\n",
    "    cnt = 0\n",
    "\n",
    "    for line in relevance_total:\n",
    "        if True in line:\n",
    "            cnt = cnt + 1\n",
    "\n",
    "    return cnt / len(relevance_total)\n",
    "\n",
    "def mrr(relevance_total):\n",
    "    total_score = 0.0\n",
    "\n",
    "    for line in relevance_total:\n",
    "        for rank in range(len(line)):\n",
    "            if line[rank] == True:\n",
    "                total_score = total_score + 1 / (rank + 1)\n",
    "\n",
    "    return total_score / len(relevance_total)"
   ]
  },
  {
   "cell_type": "code",
   "execution_count": 20,
   "id": "705b492e-45e7-4c4c-9e8c-28df6fca6348",
   "metadata": {},
   "outputs": [],
   "source": [
    "def minsearch_search(query):\n",
    "    boost = {}\n",
    "\n",
    "    results = index.search(\n",
    "        query=query,\n",
    "        filter_dict={},\n",
    "        boost_dict=boost,\n",
    "        num_results=10\n",
    "    )\n",
    "\n",
    "    return results"
   ]
  },
  {
   "cell_type": "code",
   "execution_count": 21,
   "id": "c4de4af0-235e-40b3-bd1f-f9e822537a4c",
   "metadata": {},
   "outputs": [],
   "source": [
    "def evaluate(ground_truth, search_function):\n",
    "    relevance_total = []\n",
    "\n",
    "    for q in tqdm(ground_truth):\n",
    "        doc_id = q['id']\n",
    "        results = search_function(q)\n",
    "        relevance = [d['id'] == doc_id for d in results]\n",
    "        relevance_total.append(relevance)\n",
    "\n",
    "    return {\n",
    "        'hit_rate': hit_rate(relevance_total),\n",
    "        'mrr': mrr(relevance_total),\n",
    "    }"
   ]
  },
  {
   "cell_type": "code",
   "execution_count": 22,
   "id": "dd462a10-c2a3-4a36-99d9-2eceaa8d1aa8",
   "metadata": {},
   "outputs": [],
   "source": [
    "from tqdm.auto import tqdm"
   ]
  },
  {
   "cell_type": "code",
   "execution_count": 23,
   "id": "64a722b6-4796-447e-9b4e-885dd5bfb9e6",
   "metadata": {},
   "outputs": [
    {
     "data": {
      "application/vnd.jupyter.widget-view+json": {
       "model_id": "6804583ab4f14841b3f3ecb31c6bb079",
       "version_major": 2,
       "version_minor": 0
      },
      "text/plain": [
       "  0%|          | 0/8205 [00:00<?, ?it/s]"
      ]
     },
     "metadata": {},
     "output_type": "display_data"
    },
    {
     "data": {
      "text/plain": [
       "{'hit_rate': 0.5774527726995734, 'mrr': 0.4511377112291205}"
      ]
     },
     "execution_count": 23,
     "metadata": {},
     "output_type": "execute_result"
    }
   ],
   "source": [
    "evaluate(ground_truth, lambda q: minsearch_search(q['queries']))"
   ]
  },
  {
   "cell_type": "markdown",
   "id": "f721c328-b2a0-4908-b57e-b3e8985eca6b",
   "metadata": {},
   "source": [
    "## Finding the best parameters"
   ]
  },
  {
   "cell_type": "code",
   "execution_count": 24,
   "id": "e680e39d-d31a-4851-af43-f369bec4be16",
   "metadata": {},
   "outputs": [],
   "source": [
    "df_validation = df_question[:1000]\n",
    "df_test = df_question[1000:]"
   ]
  },
  {
   "cell_type": "code",
   "execution_count": 25,
   "id": "c30d3579-5136-4260-8587-f96aa617d453",
   "metadata": {},
   "outputs": [],
   "source": [
    "import random\n",
    "\n",
    "def simple_optimize(param_ranges, objective_function, n_iterations=10):\n",
    "    best_params = None\n",
    "    best_score = float('-inf')  # Assuming we're minimizing. Use float('-inf') if maximizing.\n",
    "\n",
    "    for _ in range(n_iterations):\n",
    "        # Generate random parameters\n",
    "        current_params = {}\n",
    "        for param, (min_val, max_val) in param_ranges.items():\n",
    "            if isinstance(min_val, int) and isinstance(max_val, int):\n",
    "                current_params[param] = random.randint(min_val, max_val)\n",
    "            else:\n",
    "                current_params[param] = random.uniform(min_val, max_val)\n",
    "        \n",
    "        # Evaluate the objective function\n",
    "        current_score = objective_function(current_params)\n",
    "        \n",
    "        # Update best if current is better\n",
    "        if current_score > best_score:  # Change to > if maximizing\n",
    "            best_score = current_score\n",
    "            best_params = current_params\n",
    "    \n",
    "    return best_params, best_score"
   ]
  },
  {
   "cell_type": "code",
   "execution_count": 26,
   "id": "0ea4e8f5-f067-482a-93f4-801d559756bf",
   "metadata": {},
   "outputs": [],
   "source": [
    "gt_val = df_validation.to_dict(orient='records')"
   ]
  },
  {
   "cell_type": "code",
   "execution_count": 27,
   "id": "9d52fdb6-d9aa-4a5f-9fef-748486a13d0f",
   "metadata": {},
   "outputs": [],
   "source": [
    "def minsearch_search(query, boost=None):\n",
    "    if boost is None:\n",
    "        boost = {}\n",
    "\n",
    "    results = index.search(\n",
    "        query=query,\n",
    "        filter_dict={},\n",
    "        boost_dict=boost,\n",
    "        num_results=10\n",
    "    )\n",
    "\n",
    "    return results"
   ]
  },
  {
   "cell_type": "code",
   "execution_count": 28,
   "id": "59b0c7ba-00c8-44e1-9202-9d85454cb7bf",
   "metadata": {},
   "outputs": [
    {
     "data": {
      "text/plain": [
       "{'id': 'ChIJ2e-AEyMzK4gRC3Ta0xpNT2s',\n",
       " 'nationalphonenumber': '(416) 322-7111',\n",
       " 'formattedaddress': '2363 Yonge St, Toronto, ON M4P 2C8, Canada',\n",
       " 'rating': 4.3,\n",
       " 'websiteuri': 'https://www.facebook.com/marsuptown/',\n",
       " 'regularopeninghours': \"['Monday: 7:00\\\\u202fAM\\\\u2009–\\\\u20094:00\\\\u202fPM', 'Tuesday: 7:00\\\\u202fAM\\\\u2009–\\\\u20094:00\\\\u202fPM', 'Wednesday: 7:00\\\\u202fAM\\\\u2009–\\\\u20094:00\\\\u202fPM', 'Thursday: 7:00\\\\u202fAM\\\\u2009–\\\\u20099:00\\\\u202fPM', 'Friday: 7:00\\\\u202fAM\\\\u2009–\\\\u20099:00\\\\u202fPM', 'Saturday: 7:00\\\\u202fAM\\\\u2009–\\\\u20099:00\\\\u202fPM', 'Sunday: 7:00\\\\u202fAM\\\\u2009–\\\\u20094:00\\\\u202fPM']\",\n",
       " 'displayname': 'Mars Diner',\n",
       " 'primarytype': 'american_restaurant',\n",
       " 'editorialsummary': 'Straightforward eatery with an old-school vibe for diner-style fare from eggs to burgers to pie.',\n",
       " 'reviews': 'This restaurant is a beloved family spot that offers a delightful retro experience reminiscent of 60s-style American diners. Known for its fantastic value, the meals are generously portioned and freshly prepared in an open kitchen, making it a cozy choice for breakfast and brunch. Guests rave about the perfect over-easy eggs, delectable home fries, and succulent sausage, all complemented by some of the best pancakes they’ve ever tasted—light and fluffy without being overly sweet. For those seeking savory options, the eggs benedict garners high praise as well. The inviting atmosphere, combined with a classic diner vibe enhanced by a nostalgic music playlist, creates a charming setting for dining. Additionally, fresh fruit toppings on the waffles add a touch of brightness to the sweet offerings. With excellent service and a welcoming ambiance, this restaurant stands out as the perfect place to enjoy a hearty and delicious morning meal.'}"
      ]
     },
     "execution_count": 28,
     "metadata": {},
     "output_type": "execute_result"
    }
   ],
   "source": [
    "documents[0]"
   ]
  },
  {
   "cell_type": "code",
   "execution_count": 29,
   "id": "e3758daf-f631-4c6e-adf8-a446d2fd0c87",
   "metadata": {},
   "outputs": [],
   "source": [
    "param_ranges = {\n",
    "    'displayname': (0.0, 3.0),\n",
    "    'primarytype': (0.0, 3.0),\n",
    "    'editorialsummary': (0.0, 3.0),\n",
    "    'reviews': (0.0, 3.0),\n",
    "}\n",
    "\n",
    "def objective(boost_params):\n",
    "    def search_function(q):\n",
    "        return minsearch_search(q['queries'], boost_params)\n",
    "\n",
    "    results = evaluate(gt_val, search_function)\n",
    "    return results['mrr']"
   ]
  },
  {
   "cell_type": "code",
   "execution_count": 30,
   "id": "62e9c9ba-6247-41d4-9879-ffa52e9292ee",
   "metadata": {},
   "outputs": [
    {
     "data": {
      "application/vnd.jupyter.widget-view+json": {
       "model_id": "7e5f9bcb68b3498e8951837c8ae5804a",
       "version_major": 2,
       "version_minor": 0
      },
      "text/plain": [
       "  0%|          | 0/1000 [00:00<?, ?it/s]"
      ]
     },
     "metadata": {},
     "output_type": "display_data"
    },
    {
     "data": {
      "application/vnd.jupyter.widget-view+json": {
       "model_id": "c660571bc1474b95a76f87cdaf4dcd0f",
       "version_major": 2,
       "version_minor": 0
      },
      "text/plain": [
       "  0%|          | 0/1000 [00:00<?, ?it/s]"
      ]
     },
     "metadata": {},
     "output_type": "display_data"
    },
    {
     "data": {
      "application/vnd.jupyter.widget-view+json": {
       "model_id": "3657646863c74de591c08f78542ff748",
       "version_major": 2,
       "version_minor": 0
      },
      "text/plain": [
       "  0%|          | 0/1000 [00:00<?, ?it/s]"
      ]
     },
     "metadata": {},
     "output_type": "display_data"
    },
    {
     "data": {
      "application/vnd.jupyter.widget-view+json": {
       "model_id": "f62c418912fb47d6af9e549a4d36601a",
       "version_major": 2,
       "version_minor": 0
      },
      "text/plain": [
       "  0%|          | 0/1000 [00:00<?, ?it/s]"
      ]
     },
     "metadata": {},
     "output_type": "display_data"
    },
    {
     "data": {
      "application/vnd.jupyter.widget-view+json": {
       "model_id": "78ee60678a8c4b7cbe001bd2e81d6578",
       "version_major": 2,
       "version_minor": 0
      },
      "text/plain": [
       "  0%|          | 0/1000 [00:00<?, ?it/s]"
      ]
     },
     "metadata": {},
     "output_type": "display_data"
    },
    {
     "data": {
      "application/vnd.jupyter.widget-view+json": {
       "model_id": "b016ab8ca0c24ff4ab8b131fc20c1048",
       "version_major": 2,
       "version_minor": 0
      },
      "text/plain": [
       "  0%|          | 0/1000 [00:00<?, ?it/s]"
      ]
     },
     "metadata": {},
     "output_type": "display_data"
    },
    {
     "data": {
      "application/vnd.jupyter.widget-view+json": {
       "model_id": "00a43ca2dcad4cbe95d99bb224565094",
       "version_major": 2,
       "version_minor": 0
      },
      "text/plain": [
       "  0%|          | 0/1000 [00:00<?, ?it/s]"
      ]
     },
     "metadata": {},
     "output_type": "display_data"
    },
    {
     "data": {
      "application/vnd.jupyter.widget-view+json": {
       "model_id": "cc1469d22ee441738f7b19360df7b34b",
       "version_major": 2,
       "version_minor": 0
      },
      "text/plain": [
       "  0%|          | 0/1000 [00:00<?, ?it/s]"
      ]
     },
     "metadata": {},
     "output_type": "display_data"
    },
    {
     "data": {
      "application/vnd.jupyter.widget-view+json": {
       "model_id": "942ea88b144649b0807a56771aefde99",
       "version_major": 2,
       "version_minor": 0
      },
      "text/plain": [
       "  0%|          | 0/1000 [00:00<?, ?it/s]"
      ]
     },
     "metadata": {},
     "output_type": "display_data"
    },
    {
     "data": {
      "application/vnd.jupyter.widget-view+json": {
       "model_id": "5e54f4888f9d45acb9a72090b7a89704",
       "version_major": 2,
       "version_minor": 0
      },
      "text/plain": [
       "  0%|          | 0/1000 [00:00<?, ?it/s]"
      ]
     },
     "metadata": {},
     "output_type": "display_data"
    },
    {
     "data": {
      "application/vnd.jupyter.widget-view+json": {
       "model_id": "82e152023bd84be289ba80a45ec13718",
       "version_major": 2,
       "version_minor": 0
      },
      "text/plain": [
       "  0%|          | 0/1000 [00:00<?, ?it/s]"
      ]
     },
     "metadata": {},
     "output_type": "display_data"
    },
    {
     "data": {
      "application/vnd.jupyter.widget-view+json": {
       "model_id": "7a5f64556c37409d9802b099d4da0ac1",
       "version_major": 2,
       "version_minor": 0
      },
      "text/plain": [
       "  0%|          | 0/1000 [00:00<?, ?it/s]"
      ]
     },
     "metadata": {},
     "output_type": "display_data"
    },
    {
     "data": {
      "application/vnd.jupyter.widget-view+json": {
       "model_id": "6e8110e7166342c8bc6cd5ff6af83859",
       "version_major": 2,
       "version_minor": 0
      },
      "text/plain": [
       "  0%|          | 0/1000 [00:00<?, ?it/s]"
      ]
     },
     "metadata": {},
     "output_type": "display_data"
    },
    {
     "data": {
      "application/vnd.jupyter.widget-view+json": {
       "model_id": "c0247912ee9043cf87ee015974b4828c",
       "version_major": 2,
       "version_minor": 0
      },
      "text/plain": [
       "  0%|          | 0/1000 [00:00<?, ?it/s]"
      ]
     },
     "metadata": {},
     "output_type": "display_data"
    },
    {
     "data": {
      "application/vnd.jupyter.widget-view+json": {
       "model_id": "62ed06bc72ca49138904a2daf5d224cc",
       "version_major": 2,
       "version_minor": 0
      },
      "text/plain": [
       "  0%|          | 0/1000 [00:00<?, ?it/s]"
      ]
     },
     "metadata": {},
     "output_type": "display_data"
    },
    {
     "data": {
      "application/vnd.jupyter.widget-view+json": {
       "model_id": "c3887d6567fe40ab8fe795193b91ba4f",
       "version_major": 2,
       "version_minor": 0
      },
      "text/plain": [
       "  0%|          | 0/1000 [00:00<?, ?it/s]"
      ]
     },
     "metadata": {},
     "output_type": "display_data"
    },
    {
     "data": {
      "application/vnd.jupyter.widget-view+json": {
       "model_id": "d791350ef02d436ba6e1d96081776655",
       "version_major": 2,
       "version_minor": 0
      },
      "text/plain": [
       "  0%|          | 0/1000 [00:00<?, ?it/s]"
      ]
     },
     "metadata": {},
     "output_type": "display_data"
    },
    {
     "data": {
      "application/vnd.jupyter.widget-view+json": {
       "model_id": "fa8e48b6a83e42809e8cd22a154fd0af",
       "version_major": 2,
       "version_minor": 0
      },
      "text/plain": [
       "  0%|          | 0/1000 [00:00<?, ?it/s]"
      ]
     },
     "metadata": {},
     "output_type": "display_data"
    },
    {
     "data": {
      "application/vnd.jupyter.widget-view+json": {
       "model_id": "26b012a024bc483e883d7c40b69db1e9",
       "version_major": 2,
       "version_minor": 0
      },
      "text/plain": [
       "  0%|          | 0/1000 [00:00<?, ?it/s]"
      ]
     },
     "metadata": {},
     "output_type": "display_data"
    },
    {
     "data": {
      "application/vnd.jupyter.widget-view+json": {
       "model_id": "db6a899be6dc44b78505e510f0fa7366",
       "version_major": 2,
       "version_minor": 0
      },
      "text/plain": [
       "  0%|          | 0/1000 [00:00<?, ?it/s]"
      ]
     },
     "metadata": {},
     "output_type": "display_data"
    },
    {
     "data": {
      "text/plain": [
       "({'displayname': 0.9280361750983652,\n",
       "  'primarytype': 0.6526625675538263,\n",
       "  'editorialsummary': 0.1523607227964593,\n",
       "  'reviews': 2.404307768018854},\n",
       " 0.5637051587301589)"
      ]
     },
     "execution_count": 30,
     "metadata": {},
     "output_type": "execute_result"
    }
   ],
   "source": [
    "simple_optimize(param_ranges, objective, n_iterations=20)"
   ]
  },
  {
   "cell_type": "code",
   "execution_count": 32,
   "id": "dcc52be2-d4e0-49f9-8a17-dd70b88def1f",
   "metadata": {},
   "outputs": [
    {
     "data": {
      "application/vnd.jupyter.widget-view+json": {
       "model_id": "41d721b05c6c4b5bb0bd366d5f9617fa",
       "version_major": 2,
       "version_minor": 0
      },
      "text/plain": [
       "  0%|          | 0/8205 [00:00<?, ?it/s]"
      ]
     },
     "metadata": {},
     "output_type": "display_data"
    },
    {
     "data": {
      "text/plain": [
       "{'hit_rate': 0.7074954296160878, 'mrr': 0.5425317508681313}"
      ]
     },
     "execution_count": 32,
     "metadata": {},
     "output_type": "execute_result"
    }
   ],
   "source": [
    "def minsearch_improved(query):\n",
    "    boost = {\n",
    "        'displayname': 1.07,\n",
    "        'primarytype': 0.14,\n",
    "        'editorialsummary': 1.25,\n",
    "        'reviews': 2.79\n",
    "    }\n",
    "\n",
    "    results = index.search(\n",
    "        query=query,\n",
    "        filter_dict={},\n",
    "        boost_dict=boost,\n",
    "        num_results=10\n",
    "    )\n",
    "\n",
    "    return results\n",
    "\n",
    "evaluate(ground_truth, lambda q: minsearch_improved(q['queries']))"
   ]
  },
  {
   "cell_type": "markdown",
   "id": "eac9a606-82d4-4c21-86c2-6b016bc2281b",
   "metadata": {},
   "source": [
    "## RAG evaluation"
   ]
  },
  {
   "cell_type": "code",
   "execution_count": 48,
   "id": "77fb9252-2a1d-492a-975b-aa4a2f10c59a",
   "metadata": {},
   "outputs": [],
   "source": [
    "prompt2_template = \"\"\"\n",
    "You are an expert evaluator for a RAG system.\n",
    "Your task is to analyze the relevance of the generated answer to the given query.\n",
    "It is very important that you consider that the request for the dish, atmosphere, \n",
    "type of meal, among others in the query is included in the response.\n",
    "Based on the relevance of the generated answer, you will classify it\n",
    "as \"NON_RELEVANT\", \"PARTLY_RELEVANT\", or \"RELEVANT\".\n",
    "\n",
    "Here is the data for evaluation:\n",
    "\n",
    "Question: {query}\n",
    "Generated Answer: {answer_llm}\n",
    "\n",
    "Please analyze the content and context of the generated answer in relation to the query\n",
    "and provide your evaluation in parsable JSON without using code blocks:\n",
    "\n",
    "{{\n",
    "  \"Relevance\": \"NON_RELEVANT\" | \"PARTLY_RELEVANT\" | \"RELEVANT\",\n",
    "  \"Explanation\": \"[Provide a brief explanation for your evaluation]\"\n",
    "}}\n",
    "\"\"\".strip()"
   ]
  },
  {
   "cell_type": "code",
   "execution_count": 55,
   "id": "24993459-a119-4e92-91ec-f57f9bc9ca60",
   "metadata": {},
   "outputs": [
    {
     "data": {
      "text/plain": [
       "8205"
      ]
     },
     "execution_count": 55,
     "metadata": {},
     "output_type": "execute_result"
    }
   ],
   "source": [
    "len(ground_truth)"
   ]
  },
  {
   "cell_type": "code",
   "execution_count": 56,
   "id": "07da70f4-5397-4c8e-9ca5-03284702e0e3",
   "metadata": {},
   "outputs": [],
   "source": [
    "record = ground_truth[0]"
   ]
  },
  {
   "cell_type": "code",
   "execution_count": 54,
   "id": "9dae982d-242c-401b-9e54-b85e827f500e",
   "metadata": {},
   "outputs": [
    {
     "name": "stdout",
     "output_type": "stream",
     "text": [
      "You are an expert evaluator for a RAG system.\n",
      "Your task is to analyze the relevance of the generated answer to the given query.\n",
      "It is very important that you consider that the request for the dish, atmosphere, \n",
      "type of meal, among others in the query is included in the response.\n",
      "Based on the relevance of the generated answer, you will classify it\n",
      "as \"NON_RELEVANT\", \"PARTLY_RELEVANT\", or \"RELEVANT\".\n",
      "\n",
      "Here is the data for evaluation:\n",
      "\n",
      "Question: I want a nice pleace where I can eat the spicy chicken wings\n",
      "Generated Answer: Here are three recommendations for enjoying spicy chicken wings in Toronto:\n",
      "\n",
      "1. Wow! Wing House  \n",
      "   Located at 772 College St, Toronto, ON M6G 1C6, Canada, this restaurant has a rating of 4.2. They offer an extensive selection of over 100 wing flavors, including the popular \"Devils Ranch Wings.\" The wings are known for their crispy exterior and juicy interior. You can reach them at (647) 547-5779.\n",
      "\n",
      "2. The Wing Shop  \n",
      "   Situated at 211 Queen St E, Toronto, ON M5A 1S2, Canada, The Wing Shop also holds a rating of 4.2. They're well-known for flavors like Spicy Garlic Parmesan and Mango Habanero wings. Customer reviews highlight the large, juicy portions. Their phone number is (416) 682-1010.\n",
      "\n",
      "3. Wild Wing  \n",
      "   This restaurant is found at 675 King St W, Toronto, ON M5V 1M9, Canada, with a rating of 3.7. Wild Wing offers a variety of mouthwatering sauces for their wings, making it a great spot for late-night cravings. You can contact them at (416) 777-9464. \n",
      "\n",
      "Enjoy your meal!\n",
      "\n",
      "Please analyze the content and context of the generated answer in relation to the query\n",
      "and provide your evaluation in parsable JSON without using code blocks:\n",
      "\n",
      "{\n",
      "  \"Relevance\": \"NON_RELEVANT\" | \"PARTLY_RELEVANT\" | \"RELEVANT\",\n",
      "  \"Explanation\": \"[Provide a brief explanation for your evaluation]\"\n",
      "}\n"
     ]
    }
   ],
   "source": [
    "prompt = prompt2_template.format(query=query, answer_llm=answer)\n",
    "print(prompt)"
   ]
  },
  {
   "cell_type": "code",
   "execution_count": 58,
   "id": "413a5484-04ff-48ec-90d7-201b375ee0de",
   "metadata": {},
   "outputs": [],
   "source": [
    "import json"
   ]
  },
  {
   "cell_type": "code",
   "execution_count": 59,
   "id": "b2f17d97-920f-4f7e-8b1c-0804e56f7d3c",
   "metadata": {},
   "outputs": [],
   "source": [
    "df_sample = df_question.sample(n=200, random_state=1)"
   ]
  },
  {
   "cell_type": "code",
   "execution_count": 60,
   "id": "f56bddd2-849b-4571-881b-5e6111d543e9",
   "metadata": {},
   "outputs": [],
   "source": [
    "sample = df_sample.to_dict(orient='records')"
   ]
  },
  {
   "cell_type": "code",
   "execution_count": 65,
   "id": "982b74e7-1c07-4e97-bfe9-e8bd93b1a80d",
   "metadata": {},
   "outputs": [
    {
     "data": {
      "application/vnd.jupyter.widget-view+json": {
       "model_id": "727db17a22e74e0ca10b670d090748c7",
       "version_major": 2,
       "version_minor": 0
      },
      "text/plain": [
       "  0%|          | 0/200 [00:00<?, ?it/s]"
      ]
     },
     "metadata": {},
     "output_type": "display_data"
    }
   ],
   "source": [
    "evaluations = []\n",
    "\n",
    "for record in tqdm(sample):\n",
    "    question = record['queries']\n",
    "    answer_llm = rag(question) \n",
    "\n",
    "    prompt = prompt2_template.format(\n",
    "        query=query,\n",
    "        answer_llm=answer\n",
    "    )\n",
    "\n",
    "    evaluation = llm(prompt)\n",
    "    evaluation = json.loads(evaluation)\n",
    "\n",
    "    evaluations.append((record, answer_llm, evaluation))"
   ]
  },
  {
   "cell_type": "code",
   "execution_count": 75,
   "id": "80b8d5d2-2444-47a7-a19c-c2b257bca060",
   "metadata": {},
   "outputs": [],
   "source": [
    "df_eval = pd.DataFrame(evaluations, columns=['record', 'answer', 'evaluation'])\n",
    "\n",
    "df_eval['id'] = df_eval.record.apply(lambda d: d['id'])\n",
    "df_eval['queries'] = df_eval.record.apply(lambda d: d['queries'])\n",
    "\n",
    "df_eval['relevance'] = df_eval.evaluation.apply(lambda d: d['Relevance'])\n",
    "df_eval['explanation'] = df_eval.evaluation.apply(lambda d: d['Explanation'])\n",
    "\n",
    "del df_eval['record']\n",
    "del df_eval['evaluation']"
   ]
  },
  {
   "cell_type": "code",
   "execution_count": 76,
   "id": "bf8f65fb-1d03-45f1-b888-173b9ad9321f",
   "metadata": {},
   "outputs": [
    {
     "data": {
      "text/plain": [
       "relevance\n",
       "RELEVANT    1.0\n",
       "Name: proportion, dtype: float64"
      ]
     },
     "execution_count": 76,
     "metadata": {},
     "output_type": "execute_result"
    }
   ],
   "source": [
    "df_eval.relevance.value_counts(normalize=True)"
   ]
  },
  {
   "cell_type": "code",
   "execution_count": 70,
   "id": "8633f410-c02d-4fee-b03d-b977c347dde2",
   "metadata": {},
   "outputs": [],
   "source": [
    "df_eval.to_csv('../data/rag-eval-gpt-4o-mini.csv', index=False)"
   ]
  },
  {
   "cell_type": "code",
   "execution_count": 73,
   "id": "0ef20135-37d0-4fe5-9492-cc13b74e04e0",
   "metadata": {},
   "outputs": [
    {
     "name": "stdout",
     "output_type": "stream",
     "text": [
      "Based on your request for a busy ice cream spot in downtown Toronto that accommodates different dietary needs and does not accept credit cards, I recommend the following:\n",
      "\n",
      "1. Hollywood Gelato\n",
      "   - Direction: 1640 Bayview Ave, Toronto, ON M4G 3B7, Canada\n",
      "   - Phone: (416) 544-9829\n",
      "   - Summary: This cafe-style ice cream shop offers 22 housemade gelato flavors, including options for various dietary needs. It’s often busy, creating a lively atmosphere. Note that they do not accept credit cards, so be prepared to pay with cash.\n",
      "\n",
      "2. The Fix Ice Cream Bar\n",
      "   - Direction: 207 Queens Quay W, Toronto, ON M5J 1A7, Canada\n",
      "   - Phone: (647) 977-2767\n",
      "   - Summary: Known for its creative and seasonal soft serve flavors, The Fix offers vegan options and has received positive reviews for its friendly service. It’s a popular spot near the harbor, but they also do not accept credit cards.\n",
      "\n",
      "3. Mizzica Gelateria & Cafe\n",
      "   - Direction: 307 Queen St W, Toronto, ON M5V 2A4, Canada\n",
      "   - Phone: (416) 225-2271\n",
      "   - Summary: This authentic Italian ice cream shop offers a variety of vegan options and unique flavors. It attracts a busy crowd, particularly on summer nights, and they do not accept credit cards, which is something to keep in mind.\n",
      "\n",
      "These spots are highly rated and well-known for their ice cream, making them great choices for your craving.\n"
     ]
    }
   ],
   "source": [
    "print(df_eval['answer'][4])"
   ]
  },
  {
   "cell_type": "code",
   "execution_count": 77,
   "id": "4c65dd0d-3147-41ad-bf70-feea591bc1c9",
   "metadata": {},
   "outputs": [],
   "source": [
    "df_sample = df_question.sample(n=20, random_state=1)\n",
    "sample = df_sample.to_dict(orient='records')"
   ]
  },
  {
   "cell_type": "code",
   "execution_count": 79,
   "id": "077dc13b-eebe-477c-a8a1-ecf62a4e5c04",
   "metadata": {},
   "outputs": [
    {
     "data": {
      "application/vnd.jupyter.widget-view+json": {
       "model_id": "cfb879bc629c4336beeed93066c2f91c",
       "version_major": 2,
       "version_minor": 0
      },
      "text/plain": [
       "  0%|          | 0/20 [00:00<?, ?it/s]"
      ]
     },
     "metadata": {},
     "output_type": "display_data"
    }
   ],
   "source": [
    "evaluations_gpt4o = []\n",
    "\n",
    "for record in tqdm(sample):\n",
    "    question = record['queries']\n",
    "    answer_llm = rag(question, #model='gpt-4o') \n",
    "\n",
    "    prompt = prompt2_template.format(\n",
    "        query=query,\n",
    "        answer_llm=answer\n",
    "    )\n",
    "\n",
    "    evaluation = llm(prompt)\n",
    "    evaluation = json.loads(evaluation)\n",
    "    \n",
    "    evaluations_gpt4o.append((record, answer_llm, evaluation))"
   ]
  },
  {
   "cell_type": "code",
   "execution_count": 80,
   "id": "81987b45-b42b-42c3-9a91-b268743b486d",
   "metadata": {},
   "outputs": [],
   "source": [
    "df_eval = pd.DataFrame(evaluations_gpt4o, columns=['record', 'answer', 'evaluation'])\n",
    "\n",
    "df_eval['id'] = df_eval.record.apply(lambda d: d['id'])\n",
    "df_eval['queries'] = df_eval.record.apply(lambda d: d['queries'])\n",
    "\n",
    "df_eval['relevance'] = df_eval.evaluation.apply(lambda d: d['Relevance'])\n",
    "df_eval['explanation'] = df_eval.evaluation.apply(lambda d: d['Explanation'])\n",
    "\n",
    "del df_eval['record']\n",
    "del df_eval['evaluation']"
   ]
  },
  {
   "cell_type": "code",
   "execution_count": 81,
   "id": "8f1b87e6-d8d5-4780-8307-a6098858dc97",
   "metadata": {},
   "outputs": [
    {
     "data": {
      "text/plain": [
       "relevance\n",
       "RELEVANT    20\n",
       "Name: count, dtype: int64"
      ]
     },
     "execution_count": 81,
     "metadata": {},
     "output_type": "execute_result"
    }
   ],
   "source": [
    "df_eval.relevance.value_counts()"
   ]
  },
  {
   "cell_type": "code",
   "execution_count": 82,
   "id": "cba5f4d5-1d9a-4973-8633-3eb0fc5ddc4e",
   "metadata": {},
   "outputs": [
    {
     "data": {
      "text/plain": [
       "relevance\n",
       "RELEVANT    1.0\n",
       "Name: proportion, dtype: float64"
      ]
     },
     "execution_count": 82,
     "metadata": {},
     "output_type": "execute_result"
    }
   ],
   "source": [
    "df_eval.relevance.value_counts(normalize=True)"
   ]
  },
  {
   "cell_type": "code",
   "execution_count": 83,
   "id": "05333a88-cbbb-476a-a903-dd4fa521c804",
   "metadata": {},
   "outputs": [],
   "source": [
    "df_eval.to_csv('../data/rag-eval-gpt-4o.csv', index=False)"
   ]
  },
  {
   "cell_type": "code",
   "execution_count": null,
   "id": "6b16dfac-ce6c-4968-98ff-9f3774b7198e",
   "metadata": {},
   "outputs": [],
   "source": []
  }
 ],
 "metadata": {
  "kernelspec": {
   "display_name": "Python 3 (ipykernel)",
   "language": "python",
   "name": "python3"
  },
  "language_info": {
   "codemirror_mode": {
    "name": "ipython",
    "version": 3
   },
   "file_extension": ".py",
   "mimetype": "text/x-python",
   "name": "python",
   "nbconvert_exporter": "python",
   "pygments_lexer": "ipython3",
   "version": "3.12.1"
  }
 },
 "nbformat": 4,
 "nbformat_minor": 5
}
