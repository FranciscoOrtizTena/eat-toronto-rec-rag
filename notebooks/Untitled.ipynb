{
 "cells": [
  {
   "cell_type": "code",
   "execution_count": 1,
   "id": "60e1ba70-2416-4924-aee0-a29b50136abb",
   "metadata": {},
   "outputs": [],
   "source": [
    "import pandas as pd\n",
    "import json\n",
    "from openai import OpenAI\n",
    "from tqdm import tqdm"
   ]
  },
  {
   "cell_type": "code",
   "execution_count": 2,
   "id": "cc951c78-66cc-4191-a7ef-a0364e4f7fee",
   "metadata": {},
   "outputs": [],
   "source": [
    "client = OpenAI()"
   ]
  },
  {
   "cell_type": "code",
   "execution_count": 3,
   "id": "4a859d4a-1f99-47fd-9f3a-2a7ce4898a8b",
   "metadata": {},
   "outputs": [],
   "source": [
    "def get_joined_reviews(json_data):\n",
    "    # Extract the reviews\n",
    "    reviews = json_data[\"reviews\"]\n",
    "    \n",
    "    # Concatenate the review texts into a single string, each as a paragraph\n",
    "    joined_text = \"\\n\\n\".join([review[\"text\"][\"text\"] for review in reviews if \"text\" in review and \"text\" in review[\"text\"]])\n",
    "    \n",
    "    # Return the concatenated text\n",
    "    return joined_text"
   ]
  },
  {
   "cell_type": "code",
   "execution_count": 4,
   "id": "0a05cd6d-12be-4464-9b3f-63888a148d79",
   "metadata": {},
   "outputs": [],
   "source": [
    "def build_prompt(raw_reviews):\n",
    "    prompt_template = \"\"\"\n",
    "You are an expert at summarizing text. You will be presented with some reviews of some restaurants. \n",
    "I need you to summarize the information in a single paragraph with between 7 and 10 sentences. \n",
    "Try to include the names of the dishes, i.e., eggs, lasagna, steak, among others. \n",
    "Also include the type of meal they mention, i.e., breakfast, brunch, dinner. \n",
    "I want the text to be redacted as a general review from the restaurant.\n",
    "\n",
    "REVIEWS: \n",
    "{reviews}\n",
    "\"\"\".strip()\n",
    "\n",
    "    prompt = prompt_template.format(reviews=raw_reviews).strip()\n",
    "    return prompt"
   ]
  },
  {
   "cell_type": "code",
   "execution_count": 5,
   "id": "cf6adcd9-3964-4a9a-b389-fbf667cfd3b0",
   "metadata": {},
   "outputs": [],
   "source": [
    "def llm(prompt, model='gpt-4o-mini'):\n",
    "    response = client.chat.completions.create(\n",
    "        model=model,\n",
    "        messages=[{\"role\": \"user\", \"content\": prompt}]\n",
    "    )\n",
    "    \n",
    "    return response.choices[0].message.content"
   ]
  },
  {
   "cell_type": "code",
   "execution_count": 6,
   "id": "f21d920d-5ad3-4028-b624-7698139f3dab",
   "metadata": {},
   "outputs": [],
   "source": [
    "def summarized(raw_reviews):\n",
    "    review = get_joined_reviews(raw_reviews)\n",
    "    prompt = build_prompt(review)\n",
    "    answer = llm(prompt)\n",
    "    return answer"
   ]
  },
  {
   "cell_type": "code",
   "execution_count": 7,
   "id": "aa575547-8ebc-455a-b3da-c80513d761ee",
   "metadata": {},
   "outputs": [],
   "source": [
    "def data_cleaner(restaurants_data):\n",
    "    clean_data = []\n",
    "    i = 0\n",
    "\n",
    "    # Iterate over each restaurant with tqdm to show progress\n",
    "    for restaurant in tqdm(restaurants_data, desc=\"Processing restaurants\"):\n",
    "        # Skip restaurants with no reviews\n",
    "        if not (\"reviews\" in restaurant and restaurant[\"reviews\"]):\n",
    "            continue\n",
    "        \n",
    "        # Create the new dictionary for the restaurant\n",
    "        \n",
    "        new_restaurant = {\n",
    "            \"id\": restaurant[\"id\"],\n",
    "            \"nationalPhoneNumber\": restaurant.get(\"nationalPhoneNumber\"),\n",
    "            \"formattedAddress\": restaurant.get(\"formattedAddress\"),\n",
    "            \"rating\": restaurant.get(\"rating\"),\n",
    "            \"websiteUri\": restaurant.get(\"websiteUri\"),\n",
    "            \"regularOpeningHours\": restaurant.get(\"regularOpeningHours\", {}).get(\"weekdayDescriptions\", None),\n",
    "            \"displayName\": restaurant[\"displayName\"][\"text\"],\n",
    "            \"primaryType\": restaurant.get(\"primaryType\"),\n",
    "            \"editorialSummary\": restaurant.get(\"editorialSummary\", {}).get(\"text\", None),\n",
    "            \"reviews\": summarized(restaurant)\n",
    "        }\n",
    "        \n",
    "        # Append the new restaurant to the list\n",
    "        clean_data.append(new_restaurant)\n",
    "    \n",
    "    return clean_data"
   ]
  },
  {
   "cell_type": "code",
   "execution_count": 8,
   "id": "3d887cef-9cc1-4334-8979-61c464fbf95d",
   "metadata": {},
   "outputs": [],
   "source": [
    "data_unclean = 'data_unclean.json'"
   ]
  },
  {
   "cell_type": "code",
   "execution_count": 9,
   "id": "4b542b4f-9398-42a2-b741-0948874b1801",
   "metadata": {},
   "outputs": [],
   "source": [
    "with open(data_unclean, 'r') as archivo:\n",
    "    restaurants_data = json.load(archivo)"
   ]
  },
  {
   "cell_type": "code",
   "execution_count": 10,
   "id": "d62197a2-6160-4eb2-b34c-b75cb6736e1a",
   "metadata": {},
   "outputs": [
    {
     "name": "stderr",
     "output_type": "stream",
     "text": [
      "Processing restaurants: 100%|█████████████████████████████████████████████████████████████████████████████████████| 2039/2039 [1:21:44<00:00,  2.41s/it]\n"
     ]
    }
   ],
   "source": [
    "clean_data = data_cleaner(restaurants_data)"
   ]
  },
  {
   "cell_type": "code",
   "execution_count": 12,
   "id": "0ef20a64-dbba-491b-be32-42a259016f9a",
   "metadata": {},
   "outputs": [],
   "source": [
    "df = pd.DataFrame(clean_data)"
   ]
  },
  {
   "cell_type": "code",
   "execution_count": 14,
   "id": "ea55360d-70fb-4a1f-a423-ea8413a69215",
   "metadata": {},
   "outputs": [],
   "source": [
    "df.to_csv('clean_data.csv', index=False)"
   ]
  },
  {
   "cell_type": "code",
   "execution_count": null,
   "id": "9a28881d-a331-4dec-8066-37cda2876d99",
   "metadata": {},
   "outputs": [],
   "source": []
  }
 ],
 "metadata": {
  "kernelspec": {
   "display_name": "Python 3 (ipykernel)",
   "language": "python",
   "name": "python3"
  },
  "language_info": {
   "codemirror_mode": {
    "name": "ipython",
    "version": 3
   },
   "file_extension": ".py",
   "mimetype": "text/x-python",
   "name": "python",
   "nbconvert_exporter": "python",
   "pygments_lexer": "ipython3",
   "version": "3.12.1"
  }
 },
 "nbformat": 4,
 "nbformat_minor": 5
}
