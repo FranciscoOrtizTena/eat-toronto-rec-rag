{
 "cells": [
  {
   "cell_type": "code",
   "execution_count": 28,
   "id": "6fdc50d0-2192-46b0-9400-8be48a8dd0b2",
   "metadata": {},
   "outputs": [
    {
     "name": "stdout",
     "output_type": "stream",
     "text": [
      "\u001b[1;32mInstalling sentence_transformers\u001b[0m\u001b[1;33m...\u001b[0m\n",
      "\u001b[?25lResolving sentence_transformers\u001b[33m...\u001b[0m\n",
      "\u001b[2K\u001b[1mAdded \u001b[0m\u001b[1;32msentence-transformers\u001b[0m to Pipfile's \u001b[1;33m[\u001b[0m\u001b[33mpackages\u001b[0m\u001b[1;33m]\u001b[0m \u001b[33m...\u001b[0m\n",
      "\u001b[2K✔ Installation Succeededce_transformers...\n",
      "\u001b[2K\u001b[32m⠋\u001b[0m Installing sentence_transformers...\n",
      "\u001b[1A\u001b[2K\u001b[1;33mPipfile.lock \u001b[0m\u001b[1;33m(\u001b[0m\u001b[1;33m2cdd4f\u001b[0m\u001b[1;33m)\u001b[0m\u001b[1;33m out of date: run `pipfile lock` to update to \u001b[0m\u001b[1;33m(\u001b[0m\u001b[1;33m3fd101\u001b[0m\u001b[1;33m)\u001b[0m\u001b[1;33m...\u001b[0m\n",
      "\u001b[1mRunning\u001b[0m \u001b[33m\u001b[1m$ pipenv lock\u001b[0m \u001b[1mthen\u001b[0m \u001b[33m\u001b[1m$ pipenv sync\u001b[0m\u001b[1m.\u001b[0m\n",
      "Locking\u001b[0m \u001b[33m[packages]\u001b[0m dependencies...\u001b[0m\n",
      "\u001b[?25lBuilding requirements\u001b[33m...\u001b[0m\n",
      "\u001b[2KResolving dependencies\u001b[33m...\u001b[0m\n",
      "\u001b[2K✔ Success! Locking packages...\n",
      "\u001b[2K\u001b[32m⠧\u001b[0m Locking packages...\n",
      "\u001b[1A\u001b[2KLocking\u001b[0m \u001b[33m[dev-packages]\u001b[0m dependencies...\u001b[0m\n",
      "\u001b[?25lBuilding requirements\u001b[33m...\u001b[0m\n",
      "\u001b[2KResolving dependencies\u001b[33m...\u001b[0m\n",
      "\u001b[2K✔ Success! Locking dev-packages...\n",
      "\u001b[32m⠇\u001b[0m Locking dev-packages...Warning: WARNING:pipenv.patched.pip._internal.resolution.resolvelib.candidates:hyperopt 0.2.7 does not provide the extra 'all'\u001b[0m\n",
      "\u001b[2K\u001b[32m⠇\u001b[0m Locking dev-packages...\n",
      "\u001b[1A\u001b[2K\u001b[1mUpdated Pipfile.lock (0ef11c0a6c94d8b24a58dda6513d068c4c7f29910ac6db1c5816dd74f63fd101)!\u001b[0m\n",
      "\u001b[1mInstalling dependencies from Pipfile.lock \u001b[0m\u001b[1m(\u001b[0m\u001b[1m3fd101\u001b[0m\u001b[1m)\u001b[0m\u001b[1;33m...\u001b[0m\n",
      "\u001b[32mAll dependencies are now up-to-date!\u001b[0m\n",
      "\u001b[1mInstalling dependencies from Pipfile.lock \u001b[0m\u001b[1m(\u001b[0m\u001b[1m3fd101\u001b[0m\u001b[1m)\u001b[0m\u001b[1;33m...\u001b[0m\n"
     ]
    }
   ],
   "source": [
    "!pipenv install sentence_transformers"
   ]
  },
  {
   "cell_type": "code",
   "execution_count": 29,
   "id": "0eaedcdd-77d0-49d0-afa7-680f2435df48",
   "metadata": {},
   "outputs": [
    {
     "name": "stderr",
     "output_type": "stream",
     "text": [
      "/home/codespace/.local/share/virtualenvs/eat-toronto-rec-rag-pAUS2GZp/lib/python3.12/site-packages/sentence_transformers/cross_encoder/CrossEncoder.py:11: TqdmExperimentalWarning: Using `tqdm.autonotebook.tqdm` in notebook mode. Use `tqdm.tqdm` instead to force console mode (e.g. in jupyter console)\n",
      "  from tqdm.autonotebook import tqdm, trange\n"
     ]
    }
   ],
   "source": [
    "import pandas as pd\n",
    "from elasticsearch import Elasticsearch\n",
    "from tqdm import tqdm\n",
    "from sentence_transformers import SentenceTransformer"
   ]
  },
  {
   "cell_type": "code",
   "execution_count": 2,
   "id": "ceb1cb58-1d4e-4380-b63f-d3bbfca7e9c9",
   "metadata": {},
   "outputs": [
    {
     "name": "stdout",
     "output_type": "stream",
     "text": [
      "--2024-09-11 02:19:59--  https://raw.githubusercontent.com/alexeygrigorev/minsearch/main/minsearch.py\n",
      "Resolving raw.githubusercontent.com (raw.githubusercontent.com)... 185.199.110.133, 185.199.111.133, 185.199.108.133, ...\n",
      "Connecting to raw.githubusercontent.com (raw.githubusercontent.com)|185.199.110.133|:443... connected.\n",
      "HTTP request sent, awaiting response... 200 OK\n",
      "Length: 3832 (3.7K) [text/plain]\n",
      "Saving to: ‘minsearch.py.1’\n",
      "\n",
      "minsearch.py.1      100%[===================>]   3.74K  --.-KB/s    in 0s      \n",
      "\n",
      "2024-09-11 02:19:59 (15.0 MB/s) - ‘minsearch.py.1’ saved [3832/3832]\n",
      "\n"
     ]
    }
   ],
   "source": [
    "!wget https://raw.githubusercontent.com/alexeygrigorev/minsearch/main/minsearch.py"
   ]
  },
  {
   "cell_type": "markdown",
   "id": "3635eb85-13c2-4cc2-8a55-34b9747d1bbe",
   "metadata": {},
   "source": [
    "## Ingestion"
   ]
  },
  {
   "cell_type": "code",
   "execution_count": 3,
   "id": "58c66ba6-7e69-4c35-abe0-70721f52c351",
   "metadata": {},
   "outputs": [],
   "source": [
    "df = pd.read_csv('../data/clean_data.csv')\n",
    "df.columns = df.columns.str.lower()\n",
    "df = df.dropna(subset=['primarytype'])"
   ]
  },
  {
   "cell_type": "code",
   "execution_count": 4,
   "id": "b8779b7f-96b0-49c5-857f-1ae14a5e1c1f",
   "metadata": {},
   "outputs": [
    {
     "data": {
      "text/plain": [
       "Index(['id', 'nationalphonenumber', 'formattedaddress', 'rating', 'websiteuri',\n",
       "       'regularopeninghours', 'displayname', 'primarytype', 'editorialsummary',\n",
       "       'reviews'],\n",
       "      dtype='object')"
      ]
     },
     "execution_count": 4,
     "metadata": {},
     "output_type": "execute_result"
    }
   ],
   "source": [
    "df.columns"
   ]
  },
  {
   "cell_type": "code",
   "execution_count": 5,
   "id": "9633e00b-72f9-4260-959f-c587f5ef931c",
   "metadata": {},
   "outputs": [],
   "source": [
    "documents = df.to_dict(orient='records')"
   ]
  },
  {
   "cell_type": "code",
   "execution_count": 6,
   "id": "d550d2b0-e4ee-4c1f-97b5-02abcdd01f1f",
   "metadata": {},
   "outputs": [
    {
     "data": {
      "text/plain": [
       "{'id': 'ChIJ2e-AEyMzK4gRC3Ta0xpNT2s',\n",
       " 'nationalphonenumber': '(416) 322-7111',\n",
       " 'formattedaddress': '2363 Yonge St, Toronto, ON M4P 2C8, Canada',\n",
       " 'rating': 4.3,\n",
       " 'websiteuri': 'https://www.facebook.com/marsuptown/',\n",
       " 'regularopeninghours': \"['Monday: 7:00\\\\u202fAM\\\\u2009–\\\\u20094:00\\\\u202fPM', 'Tuesday: 7:00\\\\u202fAM\\\\u2009–\\\\u20094:00\\\\u202fPM', 'Wednesday: 7:00\\\\u202fAM\\\\u2009–\\\\u20094:00\\\\u202fPM', 'Thursday: 7:00\\\\u202fAM\\\\u2009–\\\\u20099:00\\\\u202fPM', 'Friday: 7:00\\\\u202fAM\\\\u2009–\\\\u20099:00\\\\u202fPM', 'Saturday: 7:00\\\\u202fAM\\\\u2009–\\\\u20099:00\\\\u202fPM', 'Sunday: 7:00\\\\u202fAM\\\\u2009–\\\\u20094:00\\\\u202fPM']\",\n",
       " 'displayname': 'Mars Diner',\n",
       " 'primarytype': 'american_restaurant',\n",
       " 'editorialsummary': 'Straightforward eatery with an old-school vibe for diner-style fare from eggs to burgers to pie.',\n",
       " 'reviews': 'This restaurant is a beloved family spot that offers a delightful retro experience reminiscent of 60s-style American diners. Known for its fantastic value, the meals are generously portioned and freshly prepared in an open kitchen, making it a cozy choice for breakfast and brunch. Guests rave about the perfect over-easy eggs, delectable home fries, and succulent sausage, all complemented by some of the best pancakes they’ve ever tasted—light and fluffy without being overly sweet. For those seeking savory options, the eggs benedict garners high praise as well. The inviting atmosphere, combined with a classic diner vibe enhanced by a nostalgic music playlist, creates a charming setting for dining. Additionally, fresh fruit toppings on the waffles add a touch of brightness to the sweet offerings. With excellent service and a welcoming ambiance, this restaurant stands out as the perfect place to enjoy a hearty and delicious morning meal.'}"
      ]
     },
     "execution_count": 6,
     "metadata": {},
     "output_type": "execute_result"
    }
   ],
   "source": [
    "documents[0]"
   ]
  },
  {
   "cell_type": "code",
   "execution_count": 45,
   "id": "fe930191-49b5-429f-a769-4e26cccfdc71",
   "metadata": {},
   "outputs": [],
   "source": [
    "es_client = Elasticsearch('http://localhost:9200')"
   ]
  },
  {
   "cell_type": "code",
   "execution_count": 8,
   "id": "4f0c2fd6-7fb5-4e40-8fe8-6a63289078a1",
   "metadata": {},
   "outputs": [
    {
     "data": {
      "text/plain": [
       "ObjectApiResponse({'acknowledged': True, 'shards_acknowledged': True, 'index': 'restaurants-reviews'})"
      ]
     },
     "execution_count": 8,
     "metadata": {},
     "output_type": "execute_result"
    }
   ],
   "source": [
    "index_settings = {\n",
    "    \"settings\": {\n",
    "        \"number_of_shards\": 1,\n",
    "        \"number_of_replicas\": 0\n",
    "    },\n",
    "    \"mappings\": {\n",
    "        \"properties\": {\n",
    "            \"id\": {\"type\": \"text\"},\n",
    "            \"nationalphonenumber\": {\"type\": \"text\"},\n",
    "            \"formattedaddress\": {\"type\": \"text\"},\n",
    "            \"rating\": {\"type\": \"float\"},\n",
    "            \"websiteuri\": {\"type\": \"text\"},\n",
    "            \"regularopeninghours\": {\"type\": \"text\"},\n",
    "            \"displayname\": {\"type\": \"text\"},\n",
    "            \"primarytype\": {\"type\": \"text\"},\n",
    "            \"editorialsummary\": {\"type\": \"text\"},\n",
    "            \"reviews\": {\"type\": \"text\"}\n",
    "        }\n",
    "    }\n",
    "}\n",
    "\n",
    "index_name = \"restaurants-reviews\"\n",
    "\n",
    "es_client.indices.delete(index=index_name, ignore_unavailable=True)\n",
    "es_client.indices.create(index=index_name, body=index_settings)"
   ]
  },
  {
   "cell_type": "code",
   "execution_count": 9,
   "id": "74c338ee-43ad-48ef-a571-77280b5d9002",
   "metadata": {},
   "outputs": [
    {
     "name": "stderr",
     "output_type": "stream",
     "text": [
      "100%|███████████████████████████████████████████████████████████████████████████████████████████████████| 2025/2025 [00:33<00:00, 60.43it/s]\n"
     ]
    }
   ],
   "source": [
    "for doc in tqdm(documents):\n",
    "    if pd.isna(doc.get('nationalphonenumber')):\n",
    "        doc['nationalphonenumber'] = \" \"  \n",
    "    if pd.isna(doc.get('editorialsummary')):\n",
    "        doc['editorialsummary'] = \" \"  \n",
    "    if pd.isna(doc.get('websiteuri')):\n",
    "        doc['websiteuri'] = \" \"  \n",
    "    if pd.isna(doc.get('regularopeninghours')):\n",
    "        doc['regularopeninghours'] = \" \"  \n",
    "    es_client.index(index=index_name, document=doc)"
   ]
  },
  {
   "cell_type": "code",
   "execution_count": 10,
   "id": "e3d3606d-c24c-49dc-afb9-3ccf83023646",
   "metadata": {},
   "outputs": [],
   "source": [
    "query = \"I would like to try something spicy boneless\""
   ]
  },
  {
   "cell_type": "code",
   "execution_count": 11,
   "id": "041f9b49-74a5-48b3-ba84-25a943d34242",
   "metadata": {},
   "outputs": [],
   "source": [
    "def elastic_search(query):\n",
    "\n",
    "    search_query = {\n",
    "        \"size\": 10,\n",
    "        \"query\": {\n",
    "            \"bool\": {\n",
    "                \"must\": {\n",
    "                    \"multi_match\": {\n",
    "                        \"query\": query,\n",
    "                        \"fields\": [\"review^3\", \"editorialsummary\", \"primarytype^2\"],\n",
    "                        \"type\": \"best_fields\"\n",
    "                    }\n",
    "                }\n",
    "            }\n",
    "        }\n",
    "    }\n",
    "    \n",
    "    response = es_client.search(index=index_name, body=search_query)\n",
    "    \n",
    "    result_docs = []\n",
    "    \n",
    "    for hit in response['hits']['hits']:\n",
    "        result_docs.append(hit['_source'])\n",
    "\n",
    "    return result_docs"
   ]
  },
  {
   "cell_type": "code",
   "execution_count": 12,
   "id": "f5775332-1992-4dc9-90d0-f3e5bf93677d",
   "metadata": {},
   "outputs": [
    {
     "data": {
      "text/plain": [
       "[{'id': 'ChIJmR2QYSDN1IkRXhOvOgdTBNk',\n",
       "  'nationalphonenumber': '(647) 347-5570',\n",
       "  'formattedaddress': '181 Eglinton Ave E, Toronto, ON M4P 1J4, Canada',\n",
       "  'rating': 3.7,\n",
       "  'websiteuri': 'https://www.popeyeschicken.ca/',\n",
       "  'regularopeninghours': \"['Monday: 10:30\\\\u202fAM\\\\u2009–\\\\u20092:00\\\\u202fAM', 'Tuesday: 10:30\\\\u202fAM\\\\u2009–\\\\u20093:00\\\\u202fAM', 'Wednesday: 10:30\\\\u202fAM\\\\u2009–\\\\u20092:00\\\\u202fAM', 'Thursday: 10:30\\\\u202fAM\\\\u2009–\\\\u20093:00\\\\u202fAM', 'Friday: 10:30\\\\u202fAM\\\\u2009–\\\\u20093:00\\\\u202fAM', 'Saturday: 10:30\\\\u202fAM\\\\u2009–\\\\u20093:00\\\\u202fAM', 'Sunday: 10:30\\\\u202fAM\\\\u2009–\\\\u20092:00\\\\u202fAM']\",\n",
       "  'displayname': 'Popeyes Louisiana Kitchen',\n",
       "  'primarytype': 'restaurant',\n",
       "  'editorialsummary': 'Counter-serve chain offering Louisiana comfort food from spicy fried chicken to red beans & rice.',\n",
       "  'reviews': \"At this Popeyes location, customers typically enjoy fresh and flavorful meals, especially the delicious chicken, wings, and family meals. However, recent experiences have raised concerns about food quality and service consistency. One reviewer noted a disappointing oversight where six biscuits were missing from their family meal order, which detracted from an otherwise positive dining experience. Another customer reported undercooked wings during their visit, despite the restaurant being nearly empty, highlighting the need for better cooking practices and temperature checks. While the staff is friendly and service is generally quick, some diners have mentioned the restaurant's cleanliness as a concern. The Garlic Parmesan wings were particularly criticized for not matching advertised flavors, instead being described as overly buttery and tough due to improper cooking. Overall, despite the occasional hiccup, many patrons continue to appreciate the restaurant's offerings, particularly for those who enjoy chicken.\"},\n",
       " {'id': 'ChIJ07gs7q00K4gRVsweG-waEig',\n",
       "  'nationalphonenumber': '(416) 968-9889',\n",
       "  'formattedaddress': '20 Charles St E, Toronto, ON M4Y 1T1, Canada',\n",
       "  'rating': 4.4,\n",
       "  'websiteuri': 'https://www.tokyokitchentoronto.com/',\n",
       "  'regularopeninghours': \"['Monday: Closed', 'Tuesday: 12:00\\\\u2009–\\\\u200910:00\\\\u202fPM', 'Wednesday: 12:00\\\\u2009–\\\\u200910:00\\\\u202fPM', 'Thursday: 12:00\\\\u2009–\\\\u200910:00\\\\u202fPM', 'Friday: 12:00\\\\u2009–\\\\u200910:00\\\\u202fPM', 'Saturday: 4:00\\\\u2009–\\\\u200910:00\\\\u202fPM', 'Sunday: 12:00\\\\u2009–\\\\u20099:00\\\\u202fPM']\",\n",
       "  'displayname': 'Tokyo Kitchen',\n",
       "  'primarytype': 'japanese_restaurant',\n",
       "  'editorialsummary': 'Casual restaurant offering Japanese favourites from sushi to hot dishes like teriyaki.',\n",
       "  'reviews': 'This cozy Japanese restaurant near Yonge St in downtown Toronto offers a variety of dishes, although some patrons found the portion sizes to be on the smaller side. The chicken katsu curry, available with an omelet or croquettes, received praise for its well-spiced sauce and crispy breading, leaving diners feeling satisfied. While the fish was fresh, some dishes like the agedashi tofu and karaage disappointed, with comments on sogginess and dryness depending on preparation. The salmon and scallop don was noted for its fresh ingredients but criticized for lacking flavor. Additionally, the menu featured items like donkatsu, omelet curry, and creamy corn korokke, with mixed reviews on their execution. Although the atmosphere is inviting, some guests mentioned discomfort due to the surrounding area. Service was consistently described as quick and friendly, contributing positively to the overall dining experience. Despite some average dishes, many guests would consider returning to try other menu options, appreciating the reasonable pricing and attentive staff.'},\n",
       " {'id': 'ChIJnSIgLL40K4gRLTjImiydf9s',\n",
       "  'nationalphonenumber': '(416) 792-6120',\n",
       "  'formattedaddress': '650 Spadina Ave., Toronto, ON M5S 2H7, Canada',\n",
       "  'rating': 4.3,\n",
       "  'websiteuri': 'http://www.pigoutbbqtoronto.com/',\n",
       "  'regularopeninghours': \"['Monday: 11:00\\\\u202fAM\\\\u2009–\\\\u20099:45\\\\u202fPM', 'Tuesday: 11:00\\\\u202fAM\\\\u2009–\\\\u20099:45\\\\u202fPM', 'Wednesday: 11:00\\\\u202fAM\\\\u2009–\\\\u20099:45\\\\u202fPM', 'Thursday: 11:00\\\\u202fAM\\\\u2009–\\\\u20099:45\\\\u202fPM', 'Friday: 11:00\\\\u202fAM\\\\u2009–\\\\u20099:45\\\\u202fPM', 'Saturday: 11:00\\\\u202fAM\\\\u2009–\\\\u200910:45\\\\u202fPM', 'Sunday: 11:00\\\\u202fAM\\\\u2009–\\\\u20098:45\\\\u202fPM']\",\n",
       "  'displayname': 'Pig Out BBQ',\n",
       "  'primarytype': 'barbecue_restaurant',\n",
       "  'editorialsummary': \"Casual spot serving ribs, brisket & pulled pork with sides like mac 'n' cheese to a student crowd.\",\n",
       "  'reviews': 'This restaurant offers a range of hearty meat-centric dishes that are perfect for dinner. The brisket sandwich is a standout, praised for its perfect smokiness and juicy texture, often enjoyed with a flavorful sweet and spicy BBQ sauce on the side. However, some patrons found the pork rib sandwich to be dry with a basic bun and unseasoned fries, leaving them craving more flavor. The Junior pig platter is another popular choice, ideal for sharing but noted for the lack of service since customers often feel self-sufficient. The cornbread and beans received mixed reviews, with the cornbread being described as dry and the beans lacking pork, which may not appeal to everyone. Diners appreciate the friendly staff and the vibrant atmosphere, enhanced by good music and cold beer options. Overall, this is a great spot for a casual yet meaty dining experience, especially if you enjoy getting a little messy with your food.'},\n",
       " {'id': 'ChIJM0H0di41K4gRVZEbEziBcmE',\n",
       "  'nationalphonenumber': '(416) 551-3322',\n",
       "  'formattedaddress': 'The Icon, 228 Wellington St W, Toronto, ON M5V 3W1, Canada',\n",
       "  'rating': 3.7,\n",
       "  'websiteuri': 'http://popeyeschicken.ca/',\n",
       "  'regularopeninghours': \"['Monday: 11:00\\\\u202fAM\\\\u2009–\\\\u20091:00\\\\u202fAM', 'Tuesday: 11:00\\\\u202fAM\\\\u2009–\\\\u20091:00\\\\u202fAM', 'Wednesday: 11:00\\\\u202fAM\\\\u2009–\\\\u20091:00\\\\u202fAM', 'Thursday: 11:00\\\\u202fAM\\\\u2009–\\\\u20091:00\\\\u202fAM', 'Friday: 11:00\\\\u202fAM\\\\u2009–\\\\u20093:00\\\\u202fAM', 'Saturday: 11:00\\\\u202fAM\\\\u2009–\\\\u20093:00\\\\u202fAM', 'Sunday: 11:00\\\\u202fAM\\\\u2009–\\\\u20091:00\\\\u202fAM']\",\n",
       "  'displayname': 'Popeyes Louisiana Kitchen',\n",
       "  'primarytype': 'fast_food_restaurant',\n",
       "  'editorialsummary': 'Louisiana-inspired fast-food chain known for its spicy fried chicken, biscuits & sides.',\n",
       "  'reviews': 'Popeyes delivers a classic fast-food experience with friendly, efficient service that enhances the overall dining enjoyment. During visits for dinner, patrons have enjoyed a variety of dishes, including spicy chicken meals, sandwich combos, crispy onion rings, and tender chicken wings, all praised for their freshness and flavor. One reviewer highlighted their three-piece spicy chicken meal paired with fries and a biscuit, remarking on the satisfying portion size. Although there were minor hiccups, such as missing chicken pieces in a takeout order, staff responded with apologies and quick resolutions, maintaining a positive atmosphere. Customers appreciate the consistent quality of the meals, with many expressing eagerness to return. Overall, the combination of tasty food and attentive service makes Popeyes a reliable choice for a satisfying meal.'},\n",
       " {'id': 'ChIJafXiArU0K4gRdj4iypoFDTs',\n",
       "  'nationalphonenumber': '(416) 551-6556',\n",
       "  'formattedaddress': '435 Yonge St, Toronto, ON M5B 1T3, Canada',\n",
       "  'rating': 3.5,\n",
       "  'websiteuri': 'http://popeyeschicken.ca/',\n",
       "  'regularopeninghours': \"['Monday: 11:00\\\\u202fAM\\\\u2009–\\\\u20091:00\\\\u202fAM', 'Tuesday: 11:00\\\\u202fAM\\\\u2009–\\\\u20092:00\\\\u202fAM', 'Wednesday: 11:00\\\\u202fAM\\\\u2009–\\\\u20091:00\\\\u202fAM', 'Thursday: 11:00\\\\u202fAM\\\\u2009–\\\\u20092:00\\\\u202fAM', 'Friday: 11:00\\\\u202fAM\\\\u2009–\\\\u20093:00\\\\u202fAM', 'Saturday: 11:00\\\\u202fAM\\\\u2009–\\\\u20093:00\\\\u202fAM', 'Sunday: 11:00\\\\u202fAM\\\\u2009–\\\\u20092:00\\\\u202fAM']\",\n",
       "  'displayname': 'Popeyes Louisiana Kitchen',\n",
       "  'primarytype': 'restaurant',\n",
       "  'editorialsummary': 'Louisiana-inspired fast-food chain known for its spicy fried chicken, biscuits & sides.',\n",
       "  'reviews': 'Popeyes has garnered mixed reviews from customers visiting for takeout and dine-in experiences. Diners frequently order popular items such as the bone-in chicken with biscuit and the spicy chicken sandwich meal, but quality seems to be an issue; some customers have found the chicken cold and stale, while fries often arrive clumped together. There are complaints about slow service despite few customers present, as well as cleanliness issues in the restaurant. Additionally, patrons have noted that the staff can be rude, possibly due to dealing with a high volume of demanding customers, although some describe the employees as friendly and helpful. The onion rings, a frequent favorite side, are often unavailable during evening hours, leaving some diners disappointed. Overall, while some enjoy their meals at Popeyes and appreciate the quick service, numerous reviews express frustration over food quality and customer service, leading some to consider switching to competitors like KFC.'},\n",
       " {'id': 'ChIJCzy2Yts0K4gRVurdMfJ07OE',\n",
       "  'nationalphonenumber': '(647) 351-2222',\n",
       "  'formattedaddress': '400 Queen St W, Toronto, ON M5V 2A6, Canada',\n",
       "  'rating': 3.9,\n",
       "  'websiteuri': 'https://www.popeyeschicken.ca/',\n",
       "  'regularopeninghours': \"['Monday: 11:00\\\\u202fAM\\\\u2009–\\\\u20094:00\\\\u202fAM', 'Tuesday: 11:00\\\\u202fAM\\\\u2009–\\\\u20094:00\\\\u202fAM', 'Wednesday: 11:00\\\\u202fAM\\\\u2009–\\\\u20094:00\\\\u202fAM', 'Thursday: 11:00\\\\u202fAM\\\\u2009–\\\\u20095:00\\\\u202fAM', 'Friday: 11:00\\\\u202fAM\\\\u2009–\\\\u20095:00\\\\u202fAM', 'Saturday: 11:00\\\\u202fAM\\\\u2009–\\\\u20095:00\\\\u202fAM', 'Sunday: 11:00\\\\u202fAM\\\\u2009–\\\\u20095:00\\\\u202fAM']\",\n",
       "  'displayname': 'Popeyes Louisiana Kitchen',\n",
       "  'primarytype': 'restaurant',\n",
       "  'editorialsummary': 'Louisiana-inspired fast-food chain known for its spicy fried chicken, biscuits & sides.',\n",
       "  'reviews': 'This restaurant offers a mixed dining experience with a focus on spicy chicken, which has been highly praised for its tenderness and flavor. However, customer service leaves much to be desired, with several reviews pointing out a lack of attention from staff, particularly the manager and cashier, who seemed overwhelmed or unfriendly. Many patrons were disappointed by their orders, especially regarding the portion sizes of fries, which were described as insufficient, leading to frustration among diners. While the fries themselves were noted as delicious, complaints emerged about receiving less than expected, prompting some to wonder if the restaurant was running low on supplies. Additionally, cleanliness, particularly in the washroom, was highlighted as a significant issue. Despite these drawbacks, customers appreciated the freshness of the food and noted that those craving spicy chicken might find it worth a visit. Overall, while the chicken may satisfy cravings, the dining experience could dramatically improve in terms of service and food presentation.'},\n",
       " {'id': 'ChIJr08OAsE0K4gRvcdKXfnn_2c',\n",
       "  'nationalphonenumber': '(416) 644-0157',\n",
       "  'formattedaddress': '267 College St, Toronto, ON M5T 1R6, Canada',\n",
       "  'rating': 3.5,\n",
       "  'websiteuri': 'https://www.popeyeschicken.ca/',\n",
       "  'regularopeninghours': \"['Monday: 10:30\\\\u202fAM\\\\u2009–\\\\u20092:00\\\\u202fAM', 'Tuesday: 10:30\\\\u202fAM\\\\u2009–\\\\u20092:00\\\\u202fAM', 'Wednesday: 10:30\\\\u202fAM\\\\u2009–\\\\u20092:00\\\\u202fAM', 'Thursday: 10:30\\\\u202fAM\\\\u2009–\\\\u20092:00\\\\u202fAM', 'Friday: 10:30\\\\u202fAM\\\\u2009–\\\\u20094:00\\\\u202fAM', 'Saturday: 10:30\\\\u202fAM\\\\u2009–\\\\u20094:00\\\\u202fAM', 'Sunday: 10:30\\\\u202fAM\\\\u2009–\\\\u20092:00\\\\u202fAM']\",\n",
       "  'displayname': 'Popeyes Louisiana Kitchen',\n",
       "  'primarytype': 'restaurant',\n",
       "  'editorialsummary': 'Louisiana-inspired fast-food chain known for its spicy fried chicken, biscuits & sides.',\n",
       "  'reviews': 'Popeyes at 267 College St, Toronto, has received mixed reviews from customers who have experienced both poor service and satisfactory food quality. Some diners reported an unpleasant encounter with the manager, who was criticized for unprofessional behavior during the hiring process. Meanwhile, a customer recounted an incident of perceived discrimination when they felt ignored at the counter while another customer received service, leading them to suggest boycotting this location. Despite these negative experiences, some patrons noted that the food, such as the three-piece tender combo, was fresh and flavorful, maintaining the expected quality of Popeyes. However, concerns regarding food safety arose when a customer discovered an undercooked tender. Additionally, issues like cramped washroom conditions and unclean tables were highlighted as detracting from the overall dining experience. While the ambiance was described as pleasant and service efficient, the variable quality of customer interactions raises red flags for potential diners. Overall, it appears that while the food quality aligns with the brand reputation, customer service issues may overshadow the dining experience at this particular location.'},\n",
       " {'id': 'ChIJQbHpf1UsK4gRbeSfnYox1PY',\n",
       "  'nationalphonenumber': '(905) 597-1548',\n",
       "  'formattedaddress': '100 Steeles Ave W, Thornhill, ON L4J 7Y1, Canada',\n",
       "  'rating': 4.0,\n",
       "  'websiteuri': 'http://www.kobikoreanbbq.com/',\n",
       "  'regularopeninghours': \"['Monday: 11:30\\\\u202fAM\\\\u2009–\\\\u200911:00\\\\u202fPM', 'Tuesday: 11:30\\\\u202fAM\\\\u2009–\\\\u200911:00\\\\u202fPM', 'Wednesday: 11:30\\\\u202fAM\\\\u2009–\\\\u200911:00\\\\u202fPM', 'Thursday: 11:30\\\\u202fAM\\\\u2009–\\\\u200911:00\\\\u202fPM', 'Friday: 11:30\\\\u202fAM\\\\u2009–\\\\u200911:00\\\\u202fPM', 'Saturday: 11:30\\\\u202fAM\\\\u2009–\\\\u200911:00\\\\u202fPM', 'Sunday: 11:30\\\\u202fAM\\\\u2009–\\\\u200911:00\\\\u202fPM']\",\n",
       "  'displayname': 'Kobi Korean BBQ',\n",
       "  'primarytype': 'korean_restaurant',\n",
       "  'editorialsummary': 'Lively Korean BBQ joint with diverse offerings, including a signature spicy chicken with cheese.',\n",
       "  'reviews': \"This restaurant offers a delightful Korean BBQ experience that's highly praised by customers for its quality food and fast, friendly service. Popular dishes include the marinated beef ribs and the chicken with cheese, both of which are noted for their generous portions and flavor. Diners enjoy the fun of cooking at their table, enhancing their meal with delicious sides like homemade kimchi and spicy seafood tofu soup, although the latter was noted to have limited seafood. The atmosphere is inviting with both indoor and outdoor seating options, making it suitable for groups. While customer service experiences can vary—some servers providing attentive assistance and others less so—overall, patrons express satisfaction with their meals. Despite minor complaints regarding portion sizes and a particular server's demeanor, most reviews reflect a positive dining experience. Many guests recommend the establishment as a must-visit for anyone looking to try authentic Korean BBQ, especially for dinner with friends or family. The restaurant has quickly become a favorite for repeat customers looking to enjoy flavorful and fun dining.\"},\n",
       " {'id': 'ChIJrWhBcKo1K4gRYahkAr7bUBc',\n",
       "  'nationalphonenumber': '(647) 901-8432',\n",
       "  'formattedaddress': '656 College St, Toronto, ON M6G 1B8, Canada',\n",
       "  'rating': 4.2,\n",
       "  'websiteuri': 'https://tokyohotfriedchicken.ambassador.ai/?noSession=true',\n",
       "  'regularopeninghours': \"['Monday: 4:00\\\\u2009–\\\\u20099:00\\\\u202fPM', 'Tuesday: 11:30\\\\u202fAM\\\\u2009–\\\\u200912:30\\\\u202fAM', 'Wednesday: 12:00\\\\u202fPM\\\\u2009–\\\\u200912:30\\\\u202fAM', 'Thursday: 12:00\\\\u202fPM\\\\u2009–\\\\u20091:00\\\\u202fAM', 'Friday: 1:00\\\\u202fPM\\\\u2009–\\\\u20091:00\\\\u202fAM', 'Saturday: 2:00\\\\u202fPM\\\\u2009–\\\\u20091:00\\\\u202fAM', 'Sunday: 3:30\\\\u202fPM\\\\u2009–\\\\u200912:00\\\\u202fAM']\",\n",
       "  'displayname': 'Tokyo Hot Fried Chicken',\n",
       "  'primarytype': 'meal_takeaway',\n",
       "  'editorialsummary': 'Food truck frying up spicy, Japanese-inspired chicken sandwiches & meals, plus curried tater tots.',\n",
       "  'reviews': \"The restaurant is known for its standout fried chicken sandwiches, particularly the Tokyo Hot Fried Chicken, which features a crispy golden crust and juicy, tender chicken. Many customers describe this dish as the best in the Greater Toronto Area, praising its fresh ingredients that leave them feeling satisfied rather than bloated. The karaage box, which pairs well with the gyoza dipped in soy sesame sauce, is also a recommended option. Although some reviews noted a preference for the sandwiches' buns to be more flavorful, the overall experience remains highly rated. Diners appreciate the reasonable pricing and halal options available. While some found the unique blend of flavors in the sandwiches, which includes wasabi and coleslaw, to be a bit hit or miss, the mini bento box received consistent acclaim as the restaurant's highlight. Overall, this spot is ideal for those seeking a fresh, delicious meal, making it a favored choice for brunch or dinner outings.\"},\n",
       " {'id': 'ChIJ0eqGSjkzK4gRWlA-wNbfEoA',\n",
       "  'nationalphonenumber': '(416) 488-2031',\n",
       "  'formattedaddress': '2031 Yonge St, Toronto, ON M4S 2A2, Canada',\n",
       "  'rating': 4.4,\n",
       "  'websiteuri': 'http://www.littlesisterto.com/',\n",
       "  'regularopeninghours': \"['Monday: 5:00\\\\u2009–\\\\u20099:30\\\\u202fPM', 'Tuesday: 5:00\\\\u2009–\\\\u20099:30\\\\u202fPM', 'Wednesday: 5:00\\\\u2009–\\\\u20099:30\\\\u202fPM', 'Thursday: 5:00\\\\u2009–\\\\u200910:00\\\\u202fPM', 'Friday: 5:00\\\\u2009–\\\\u200910:00\\\\u202fPM', 'Saturday: 5:00\\\\u2009–\\\\u200910:00\\\\u202fPM', 'Sunday: 5:00\\\\u2009–\\\\u20099:30\\\\u202fPM']\",\n",
       "  'displayname': 'Little Sister Indonesian Food Bar',\n",
       "  'primarytype': 'indonesian_restaurant',\n",
       "  'editorialsummary': 'Spicy Indonesian snacks, satays & plates served in a funky space with Balinese decor touches.',\n",
       "  'reviews': 'This restaurant offers an exceptional dining experience with a fantastic atmosphere that is cozy and inviting, making it ideal for relaxing meals. Guests have praised the attentive and welcoming staff, who provide great recommendations for both food and drinks. The menu boasts a variety of flavorful dishes; highlights include the delicious lamb skewers, inviting fried chicken, and the savory pork belly paired with tasty fried rice. Diners have particularly enjoyed the unique whole lettuce wraps, available either rolled individually or as a platter. For those visiting for drinks, the gin-based spicy cocktail is a popular choice that complements the rich flavors of the meals. The ambiance is perfect for dates, enhancing the overall dining experience. With high-quality cuisine and a positive vibe, this hidden gem truly exceeds expectations and encourages repeat visits.'}]"
      ]
     },
     "execution_count": 12,
     "metadata": {},
     "output_type": "execute_result"
    }
   ],
   "source": [
    "elastic_search(query)"
   ]
  },
  {
   "cell_type": "code",
   "execution_count": 6,
   "id": "fed58664-8358-49c2-9192-80be6a15c583",
   "metadata": {},
   "outputs": [],
   "source": [
    "import minsearch"
   ]
  },
  {
   "cell_type": "code",
   "execution_count": 7,
   "id": "35e5bb01-baec-401e-b248-26b25f26995c",
   "metadata": {},
   "outputs": [],
   "source": [
    "index = minsearch.Index(\n",
    "    text_fields=['primarytype','reviews'],\n",
    "    keyword_fields=['id']\n",
    ")"
   ]
  },
  {
   "cell_type": "code",
   "execution_count": 8,
   "id": "4f8257bb-48bc-4661-b71d-f8ea3ca733b7",
   "metadata": {},
   "outputs": [
    {
     "data": {
      "text/plain": [
       "<minsearch.Index at 0x7afccb2e8560>"
      ]
     },
     "execution_count": 8,
     "metadata": {},
     "output_type": "execute_result"
    }
   ],
   "source": [
    "index.fit(documents)"
   ]
  },
  {
   "cell_type": "markdown",
   "id": "62d6f25f-be29-4615-bc5a-a85ce04df797",
   "metadata": {},
   "source": [
    "## RAG flow"
   ]
  },
  {
   "cell_type": "code",
   "execution_count": 13,
   "id": "02840b6d-de7f-4bff-94af-fc04d6499bfe",
   "metadata": {},
   "outputs": [],
   "source": [
    "from openai import OpenAI\n",
    "\n",
    "client = OpenAI()"
   ]
  },
  {
   "cell_type": "code",
   "execution_count": 10,
   "id": "d67aeab2-1167-4817-8070-04b1573fc913",
   "metadata": {},
   "outputs": [],
   "source": [
    "def search(query):\n",
    "    boost = {}\n",
    "\n",
    "    results = index.search(\n",
    "        query=query,\n",
    "        filter_dict={},\n",
    "        boost_dict=boost,\n",
    "        num_results=10\n",
    "    )\n",
    "\n",
    "    return results"
   ]
  },
  {
   "cell_type": "code",
   "execution_count": 14,
   "id": "9ef57915-9eee-4990-bbdd-d58922855615",
   "metadata": {},
   "outputs": [],
   "source": [
    "prompt_template = \"\"\"\n",
    "You're an expert in Toronto restaurants. Make three recommendations to the QUERY based on the CONTEXT from our restaurant database.\n",
    "Use only the facts from the CONTEXT when making a recommendation. If possible mention the direction, displayname, and phone of the restaurant.\n",
    "Do not use bold or italics.\n",
    "\n",
    "QUERY: {question}\n",
    "\n",
    "CONTEXT:\n",
    "{context}\n",
    "\"\"\".strip()\n",
    "\n",
    "entry_template = \"\"\"\n",
    "nationalphonenumber: {nationalphonenumber}\n",
    "formattedaddress: {formattedaddress}\n",
    "rating: {rating}\n",
    "displayname: {displayname}\n",
    "primarytype: {primarytype}\n",
    "editorialsummary: {editorialsummary}\n",
    "reviews: {reviews}\n",
    "\"\"\".strip()\n",
    "\n",
    "def build_prompt(query, search_results):\n",
    "    context = \"\"\n",
    "    \n",
    "    for doc in search_results:\n",
    "        context = context + entry_template.format(**doc) + \"\\n\\n\"\n",
    "\n",
    "    prompt = prompt_template.format(question=query, context=context).strip()\n",
    "    return prompt"
   ]
  },
  {
   "cell_type": "code",
   "execution_count": 15,
   "id": "55bcb9e6-a1be-4e60-9620-a1ee1feb325f",
   "metadata": {},
   "outputs": [],
   "source": [
    "def llm(prompt, model='gpt-4o-mini'):\n",
    "    response = client.chat.completions.create(\n",
    "        model=model,\n",
    "        messages=[{\"role\": \"user\", \"content\": prompt}]\n",
    "    )\n",
    "    \n",
    "    return response.choices[0].message.content"
   ]
  },
  {
   "cell_type": "code",
   "execution_count": 16,
   "id": "b13e7573-6946-41c8-824d-b881ee2a4325",
   "metadata": {},
   "outputs": [],
   "source": [
    "def rag(query, model='gpt-4o-mini'):\n",
    "    search_results = elastic_search(query)\n",
    "    prompt = build_prompt(query, search_results)\n",
    "    #print(prompt)\n",
    "    answer = llm(prompt, model=model)\n",
    "    return answer"
   ]
  },
  {
   "cell_type": "code",
   "execution_count": 18,
   "id": "516ea169-62a0-45a2-9029-3716654dfebc",
   "metadata": {
    "scrolled": true
   },
   "outputs": [
    {
     "name": "stdout",
     "output_type": "stream",
     "text": [
      "Here are three recommendations for spicy boneless options in Toronto:\n",
      "\n",
      "1. Popeyes Louisiana Kitchen  \n",
      "   - Direction: 181 Eglinton Ave E, Toronto, ON M4P 1J4, Canada  \n",
      "   - Phone: (647) 347-5570  \n",
      "   - Summary: This counter-serve chain offers Louisiana comfort food, including spicy fried chicken and wings. While there have been some concerns about quality and service consistency, many patrons enjoy the flavorful meals.\n",
      "\n",
      "2. Tokyo Hot Fried Chicken  \n",
      "   - Direction: 656 College St, Toronto, ON M6G 1B8, Canada  \n",
      "   - Phone: (647) 901-8432  \n",
      "   - Summary: Known for its crispy and juicy fried chicken sandwiches, this spot features Japanese-inspired flavors. Many customers praise the freshness and unique taste of the offerings, especially with its flavorful sauces.\n",
      "\n",
      "3. Kobi Korean BBQ  \n",
      "   - Direction: 100 Steeles Ave W, Thornhill, ON L4J 7Y1, Canada  \n",
      "   - Phone: (905) 597-1548  \n",
      "   - Summary: This vibrant Korean BBQ restaurant specializes in diverse dishes, including a signature spicy chicken with cheese. The fun of cooking at the table, coupled with a variety of flavorful sides, enhances the dining experience.\n"
     ]
    }
   ],
   "source": [
    "query = 'I would like to try something spicy boneless'\n",
    "answer = rag(query)\n",
    "print(answer)"
   ]
  },
  {
   "cell_type": "markdown",
   "id": "a1a0fc52-195b-4039-8341-7453459e9feb",
   "metadata": {},
   "source": [
    "## Retrieval Evaluation Elastic Search"
   ]
  },
  {
   "cell_type": "code",
   "execution_count": 19,
   "id": "fb5cc296-5fe6-4ad6-ba7e-5625ab2cdc8a",
   "metadata": {},
   "outputs": [],
   "source": [
    "df_question = pd.read_csv('../data/ground-truth-retrieval.csv')"
   ]
  },
  {
   "cell_type": "code",
   "execution_count": 20,
   "id": "33f10d23-2294-459e-a579-c6c1e83ee8b2",
   "metadata": {},
   "outputs": [
    {
     "data": {
      "text/html": [
       "<div>\n",
       "<style scoped>\n",
       "    .dataframe tbody tr th:only-of-type {\n",
       "        vertical-align: middle;\n",
       "    }\n",
       "\n",
       "    .dataframe tbody tr th {\n",
       "        vertical-align: top;\n",
       "    }\n",
       "\n",
       "    .dataframe thead th {\n",
       "        text-align: right;\n",
       "    }\n",
       "</style>\n",
       "<table border=\"1\" class=\"dataframe\">\n",
       "  <thead>\n",
       "    <tr style=\"text-align: right;\">\n",
       "      <th></th>\n",
       "      <th>id</th>\n",
       "      <th>queries</th>\n",
       "    </tr>\n",
       "  </thead>\n",
       "  <tbody>\n",
       "    <tr>\n",
       "      <th>0</th>\n",
       "      <td>ChIJ2e-AEyMzK4gRC3Ta0xpNT2s</td>\n",
       "      <td>looking for a retro diner experience with brea...</td>\n",
       "    </tr>\n",
       "    <tr>\n",
       "      <th>1</th>\n",
       "      <td>ChIJ2e-AEyMzK4gRC3Ta0xpNT2s</td>\n",
       "      <td>want a cozy place for brunch with generous por...</td>\n",
       "    </tr>\n",
       "    <tr>\n",
       "      <th>2</th>\n",
       "      <td>ChIJ2e-AEyMzK4gRC3Ta0xpNT2s</td>\n",
       "      <td>craving light and fluffy pancakes in a nostalg...</td>\n",
       "    </tr>\n",
       "    <tr>\n",
       "      <th>3</th>\n",
       "      <td>ChIJ2e-AEyMzK4gRC3Ta0xpNT2s</td>\n",
       "      <td>interested in excellent service and welcoming ...</td>\n",
       "    </tr>\n",
       "    <tr>\n",
       "      <th>4</th>\n",
       "      <td>ChIJ2e-AEyMzK4gRC3Ta0xpNT2s</td>\n",
       "      <td>seeking savory dishes like eggs benedict and s...</td>\n",
       "    </tr>\n",
       "  </tbody>\n",
       "</table>\n",
       "</div>"
      ],
      "text/plain": [
       "                            id  \\\n",
       "0  ChIJ2e-AEyMzK4gRC3Ta0xpNT2s   \n",
       "1  ChIJ2e-AEyMzK4gRC3Ta0xpNT2s   \n",
       "2  ChIJ2e-AEyMzK4gRC3Ta0xpNT2s   \n",
       "3  ChIJ2e-AEyMzK4gRC3Ta0xpNT2s   \n",
       "4  ChIJ2e-AEyMzK4gRC3Ta0xpNT2s   \n",
       "\n",
       "                                             queries  \n",
       "0  looking for a retro diner experience with brea...  \n",
       "1  want a cozy place for brunch with generous por...  \n",
       "2  craving light and fluffy pancakes in a nostalg...  \n",
       "3  interested in excellent service and welcoming ...  \n",
       "4  seeking savory dishes like eggs benedict and s...  "
      ]
     },
     "execution_count": 20,
     "metadata": {},
     "output_type": "execute_result"
    }
   ],
   "source": [
    "df_question.head()"
   ]
  },
  {
   "cell_type": "code",
   "execution_count": 21,
   "id": "5181cbbc-262d-49fd-87f8-726f76875ff7",
   "metadata": {},
   "outputs": [],
   "source": [
    "ground_truth = df_question.to_dict(orient='records')"
   ]
  },
  {
   "cell_type": "code",
   "execution_count": 22,
   "id": "1c842f76-f86e-4b82-b192-d431e0a67445",
   "metadata": {},
   "outputs": [
    {
     "data": {
      "text/plain": [
       "{'id': 'ChIJ2e-AEyMzK4gRC3Ta0xpNT2s',\n",
       " 'queries': 'looking for a retro diner experience with breakfast options'}"
      ]
     },
     "execution_count": 22,
     "metadata": {},
     "output_type": "execute_result"
    }
   ],
   "source": [
    "ground_truth[0]"
   ]
  },
  {
   "cell_type": "code",
   "execution_count": 25,
   "id": "d098cd5c-c85d-4d90-9ef6-cef1cdb058d1",
   "metadata": {},
   "outputs": [],
   "source": [
    "def hit_rate(relevance_total):\n",
    "    cnt = 0\n",
    "\n",
    "    for line in relevance_total:\n",
    "        if True in line:\n",
    "            cnt = cnt + 1\n",
    "\n",
    "    return cnt / len(relevance_total)\n",
    "\n",
    "def mrr(relevance_total):\n",
    "    total_score = 0.0\n",
    "\n",
    "    for line in relevance_total:\n",
    "        for rank in range(len(line)):\n",
    "            if line[rank] == True:\n",
    "                total_score = total_score + 1 / (rank + 1)\n",
    "\n",
    "    return total_score / len(relevance_total)"
   ]
  },
  {
   "cell_type": "code",
   "execution_count": 20,
   "id": "705b492e-45e7-4c4c-9e8c-28df6fca6348",
   "metadata": {},
   "outputs": [],
   "source": [
    "def minsearch_search(query):\n",
    "    boost = {}\n",
    "\n",
    "    results = index.search(\n",
    "        query=query,\n",
    "        filter_dict={},\n",
    "        boost_dict=boost,\n",
    "        num_results=10\n",
    "    )\n",
    "\n",
    "    return results"
   ]
  },
  {
   "cell_type": "code",
   "execution_count": 24,
   "id": "c4de4af0-235e-40b3-bd1f-f9e822537a4c",
   "metadata": {},
   "outputs": [],
   "source": [
    "def evaluate(ground_truth, search_function):\n",
    "    relevance_total = []\n",
    "\n",
    "    for q in tqdm(ground_truth):\n",
    "        doc_id = q['id']\n",
    "        results = search_function(q)\n",
    "        relevance = [d['id'] == doc_id for d in results]\n",
    "        relevance_total.append(relevance)\n",
    "\n",
    "    return {\n",
    "        'hit_rate': hit_rate(relevance_total),\n",
    "        'mrr': mrr(relevance_total),\n",
    "    }"
   ]
  },
  {
   "cell_type": "code",
   "execution_count": 22,
   "id": "dd462a10-c2a3-4a36-99d9-2eceaa8d1aa8",
   "metadata": {},
   "outputs": [],
   "source": [
    "from tqdm.auto import tqdm"
   ]
  },
  {
   "cell_type": "code",
   "execution_count": 26,
   "id": "64a722b6-4796-447e-9b4e-885dd5bfb9e6",
   "metadata": {},
   "outputs": [
    {
     "name": "stderr",
     "output_type": "stream",
     "text": [
      "100%|██████████████████████████████████████████████████████████████████████████████████████████████████| 8205/8205 [00:18<00:00, 452.19it/s]\n"
     ]
    },
    {
     "data": {
      "text/plain": [
       "{'hit_rate': 0.1445460085313833, 'mrr': 0.1051001615352622}"
      ]
     },
     "execution_count": 26,
     "metadata": {},
     "output_type": "execute_result"
    }
   ],
   "source": [
    "evaluate(ground_truth, lambda q: elastic_search(q['queries']))"
   ]
  },
  {
   "cell_type": "markdown",
   "id": "d0a5b4aa-d56f-4468-a734-26c46511ff0c",
   "metadata": {},
   "source": [
    "## Vector search"
   ]
  },
  {
   "cell_type": "code",
   "execution_count": 30,
   "id": "2b2a6a39-6ca7-428a-8e97-4ea51f8df77f",
   "metadata": {},
   "outputs": [
    {
     "data": {
      "application/vnd.jupyter.widget-view+json": {
       "model_id": "628f65205ed849709e4511014118a15f",
       "version_major": 2,
       "version_minor": 0
      },
      "text/plain": [
       "modules.json:   0%|          | 0.00/349 [00:00<?, ?B/s]"
      ]
     },
     "metadata": {},
     "output_type": "display_data"
    },
    {
     "data": {
      "application/vnd.jupyter.widget-view+json": {
       "model_id": "76464f56cd904741b24a837e609d61bb",
       "version_major": 2,
       "version_minor": 0
      },
      "text/plain": [
       "config_sentence_transformers.json:   0%|          | 0.00/116 [00:00<?, ?B/s]"
      ]
     },
     "metadata": {},
     "output_type": "display_data"
    },
    {
     "data": {
      "application/vnd.jupyter.widget-view+json": {
       "model_id": "61a5cabb6a414fa1af2303a771f15bd7",
       "version_major": 2,
       "version_minor": 0
      },
      "text/plain": [
       "README.md:   0%|          | 0.00/11.6k [00:00<?, ?B/s]"
      ]
     },
     "metadata": {},
     "output_type": "display_data"
    },
    {
     "data": {
      "application/vnd.jupyter.widget-view+json": {
       "model_id": "63c7420b18de4398a6d7c9b439adba77",
       "version_major": 2,
       "version_minor": 0
      },
      "text/plain": [
       "sentence_bert_config.json:   0%|          | 0.00/53.0 [00:00<?, ?B/s]"
      ]
     },
     "metadata": {},
     "output_type": "display_data"
    },
    {
     "data": {
      "application/vnd.jupyter.widget-view+json": {
       "model_id": "7aba36690a3e433ebd988eb89f206be9",
       "version_major": 2,
       "version_minor": 0
      },
      "text/plain": [
       "config.json:   0%|          | 0.00/612 [00:00<?, ?B/s]"
      ]
     },
     "metadata": {},
     "output_type": "display_data"
    },
    {
     "data": {
      "application/vnd.jupyter.widget-view+json": {
       "model_id": "2ccc1dca5186482793008388b5a88fd9",
       "version_major": 2,
       "version_minor": 0
      },
      "text/plain": [
       "model.safetensors:   0%|          | 0.00/90.9M [00:00<?, ?B/s]"
      ]
     },
     "metadata": {},
     "output_type": "display_data"
    },
    {
     "data": {
      "application/vnd.jupyter.widget-view+json": {
       "model_id": "f817ec20514543348af8d9160534c722",
       "version_major": 2,
       "version_minor": 0
      },
      "text/plain": [
       "tokenizer_config.json:   0%|          | 0.00/383 [00:00<?, ?B/s]"
      ]
     },
     "metadata": {},
     "output_type": "display_data"
    },
    {
     "data": {
      "application/vnd.jupyter.widget-view+json": {
       "model_id": "157a396e22904f0f94d799d12dff2bd7",
       "version_major": 2,
       "version_minor": 0
      },
      "text/plain": [
       "vocab.txt:   0%|          | 0.00/232k [00:00<?, ?B/s]"
      ]
     },
     "metadata": {},
     "output_type": "display_data"
    },
    {
     "data": {
      "application/vnd.jupyter.widget-view+json": {
       "model_id": "691ab8043fe345a4b5feebfead170430",
       "version_major": 2,
       "version_minor": 0
      },
      "text/plain": [
       "tokenizer.json:   0%|          | 0.00/466k [00:00<?, ?B/s]"
      ]
     },
     "metadata": {},
     "output_type": "display_data"
    },
    {
     "data": {
      "application/vnd.jupyter.widget-view+json": {
       "model_id": "729e38e233814bd29ef9dc3895c63952",
       "version_major": 2,
       "version_minor": 0
      },
      "text/plain": [
       "special_tokens_map.json:   0%|          | 0.00/112 [00:00<?, ?B/s]"
      ]
     },
     "metadata": {},
     "output_type": "display_data"
    },
    {
     "name": "stderr",
     "output_type": "stream",
     "text": [
      "/home/codespace/.local/share/virtualenvs/eat-toronto-rec-rag-pAUS2GZp/lib/python3.12/site-packages/transformers/tokenization_utils_base.py:1601: FutureWarning: `clean_up_tokenization_spaces` was not set. It will be set to `True` by default. This behavior will be depracted in transformers v4.45, and will be then set to `False` by default. For more details check this issue: https://github.com/huggingface/transformers/issues/31884\n",
      "  warnings.warn(\n"
     ]
    },
    {
     "data": {
      "application/vnd.jupyter.widget-view+json": {
       "model_id": "3d7c82d0e33a4a86b8e8f771f3ac7b92",
       "version_major": 2,
       "version_minor": 0
      },
      "text/plain": [
       "1_Pooling/config.json:   0%|          | 0.00/190 [00:00<?, ?B/s]"
      ]
     },
     "metadata": {},
     "output_type": "display_data"
    }
   ],
   "source": [
    "model_name = 'multi-qa-MiniLM-L6-cos-v1'\n",
    "model = SentenceTransformer(model_name)"
   ]
  },
  {
   "cell_type": "code",
   "execution_count": 31,
   "id": "1903cd90-42e0-4f8f-aa7d-0a5c8338483a",
   "metadata": {},
   "outputs": [],
   "source": [
    "v = model.encode('I would like to try something spicy boneless')"
   ]
  },
  {
   "cell_type": "code",
   "execution_count": 32,
   "id": "1f397be7-37bc-4787-a737-e356fc04bf1c",
   "metadata": {},
   "outputs": [
    {
     "data": {
      "text/plain": [
       "384"
      ]
     },
     "execution_count": 32,
     "metadata": {},
     "output_type": "execute_result"
    }
   ],
   "source": [
    "len(v)"
   ]
  },
  {
   "cell_type": "code",
   "execution_count": 34,
   "id": "acfce409-e8ed-45e1-85f7-9b509af385a4",
   "metadata": {},
   "outputs": [
    {
     "data": {
      "text/plain": [
       "ObjectApiResponse({'acknowledged': True, 'shards_acknowledged': True, 'index': 'restaurants-reviews'})"
      ]
     },
     "execution_count": 34,
     "metadata": {},
     "output_type": "execute_result"
    }
   ],
   "source": [
    "es_client = Elasticsearch('http://localhost:9200')\n",
    "\n",
    "index_settings = {\n",
    "    \"settings\": {\n",
    "        \"number_of_shards\": 1,\n",
    "        \"number_of_replicas\": 0\n",
    "    },\n",
    "    \"mappings\": {\n",
    "        \"properties\": {\n",
    "            \"id\": {\"type\": \"text\"},\n",
    "            \"nationalphonenumber\": {\"type\": \"text\"},\n",
    "            \"formattedaddress\": {\"type\": \"text\"},\n",
    "            \"rating\": {\"type\": \"float\"},\n",
    "            \"websiteuri\": {\"type\": \"text\"},\n",
    "            \"regularopeninghours\": {\"type\": \"text\"},\n",
    "            \"displayname\": {\"type\": \"text\"},\n",
    "            \"primarytype\": {\"type\": \"text\"},\n",
    "            \"editorialsummary\": {\"type\": \"text\"},\n",
    "            \"reviews\": {\"type\": \"text\"},\n",
    "            \"reviews_vector\":{\n",
    "                \"type\": \"dense_vector\",\n",
    "                \"dims\": 384,\n",
    "                \"index\": True,\n",
    "                \"similarity\": \"cosine\"\n",
    "            },\n",
    "            \"primarytype_vector\": {\n",
    "                \"type\": \"dense_vector\",\n",
    "                \"dims\": 384,\n",
    "                \"index\": True,\n",
    "                \"similarity\": \"cosine\"\n",
    "            },\n",
    "            \n",
    "        }\n",
    "    }\n",
    "}\n",
    "\n",
    "index_name = \"restaurants-reviews\"\n",
    "\n",
    "es_client.indices.delete(index=index_name, ignore_unavailable=True)\n",
    "es_client.indices.create(index=index_name, body=index_settings)"
   ]
  },
  {
   "cell_type": "code",
   "execution_count": 36,
   "id": "75ad6cbb-ecc0-4d45-b7b9-3fee37434c04",
   "metadata": {},
   "outputs": [
    {
     "name": "stderr",
     "output_type": "stream",
     "text": [
      "100%|███████████████████████████████████████████████████████████████████████████████████████████████████| 2025/2025 [01:40<00:00, 20.20it/s]\n"
     ]
    }
   ],
   "source": [
    "for doc in tqdm(documents):\n",
    "    review = doc['reviews']\n",
    "    primarytype = doc['primarytype']\n",
    "\n",
    "    doc['reviews_vector'] = model.encode(review)\n",
    "    doc['primarytype_vector'] = model.encode(primarytype)"
   ]
  },
  {
   "cell_type": "code",
   "execution_count": 37,
   "id": "487c3264-55a3-40e9-94e6-872b58c651b4",
   "metadata": {},
   "outputs": [
    {
     "name": "stderr",
     "output_type": "stream",
     "text": [
      "100%|███████████████████████████████████████████████████████████████████████████████████████████████████| 2025/2025 [00:36<00:00, 55.59it/s]\n"
     ]
    }
   ],
   "source": [
    "for doc in tqdm(documents):\n",
    "    es_client.index(index=index_name, document=doc)"
   ]
  },
  {
   "cell_type": "code",
   "execution_count": 38,
   "id": "cd28bc18-e896-4f17-967a-71f58ff90016",
   "metadata": {},
   "outputs": [],
   "source": [
    "query = 'I would like to try something spicy boneless'"
   ]
  },
  {
   "cell_type": "code",
   "execution_count": 39,
   "id": "78d362c6-3159-49c7-9417-29561f10c829",
   "metadata": {},
   "outputs": [],
   "source": [
    "v_q = model.encode(query)"
   ]
  },
  {
   "cell_type": "code",
   "execution_count": null,
   "id": "b86f03a8-f2eb-41af-8f1d-06b2eb58a16b",
   "metadata": {},
   "outputs": [],
   "source": [
    "model."
   ]
  },
  {
   "cell_type": "code",
   "execution_count": 51,
   "id": "6215c38e-83e1-4f87-9e18-7f4629f2d998",
   "metadata": {},
   "outputs": [],
   "source": [
    "def elastic_search_knn(field, vector):\n",
    "    knn = {\n",
    "        \"field\": field,\n",
    "        \"query_vector\": vector,\n",
    "        \"k\": 10,\n",
    "        \"num_candidates\": 10000,\n",
    "    }\n",
    "\n",
    "    search_query = {\n",
    "        \"knn\": knn,\n",
    "        \"_source\": [\"id\", \"nationalphonenumber\", \"formattedaddress\", \"rating\", \"websiteuri\", \"regularopeninghours\", \"displayname\", \"primarytype\", \"editorialsummary\", \"reviews\"]\n",
    "    }\n",
    "\n",
    "    es_results = es_client.search(\n",
    "        index=index_name,\n",
    "        body=search_query\n",
    "    )\n",
    "    \n",
    "    result_docs = []\n",
    "    \n",
    "    for hit in es_results['hits']['hits']:\n",
    "        result_docs.append(hit['_source'])\n",
    "\n",
    "    return result_docs"
   ]
  },
  {
   "cell_type": "code",
   "execution_count": 52,
   "id": "93355584-b628-4404-be07-a2f4d2b00749",
   "metadata": {},
   "outputs": [],
   "source": [
    "def reviews_vector_knn(q):\n",
    "    review = q['queries']\n",
    "\n",
    "    v_q = model.encode(review)\n",
    "\n",
    "    return elastic_search_knn('reviews_vector', v_q)"
   ]
  },
  {
   "cell_type": "code",
   "execution_count": 53,
   "id": "7441343f-fa95-427f-a4d3-9b0c747d9881",
   "metadata": {},
   "outputs": [],
   "source": [
    "def evaluate(ground_truth, search_function):\n",
    "    relevance_total = []\n",
    "\n",
    "    for q in tqdm(ground_truth):\n",
    "        doc_id = q['id']\n",
    "        results = search_function(q)\n",
    "        relevance = [d['id'] == doc_id for d in results]\n",
    "        relevance_total.append(relevance)\n",
    "\n",
    "    return {\n",
    "        'hit_rate': hit_rate(relevance_total),\n",
    "        'mrr': mrr(relevance_total),\n",
    "    }"
   ]
  },
  {
   "cell_type": "code",
   "execution_count": 54,
   "id": "ba630339-165b-4588-b14e-43beee33ca8f",
   "metadata": {},
   "outputs": [
    {
     "name": "stderr",
     "output_type": "stream",
     "text": [
      "100%|███████████████████████████████████████████████████████████████████████████████████████████████████| 8205/8205 [02:51<00:00, 47.98it/s]\n"
     ]
    },
    {
     "data": {
      "text/plain": [
       "{'hit_rate': 0.33418647166361976, 'mrr': 0.20513290386233649}"
      ]
     },
     "execution_count": 54,
     "metadata": {},
     "output_type": "execute_result"
    }
   ],
   "source": [
    "evaluate(ground_truth, reviews_vector_knn)"
   ]
  },
  {
   "cell_type": "code",
   "execution_count": 50,
   "id": "f3f06a81-7d74-4760-9743-c347ac2802e4",
   "metadata": {},
   "outputs": [
    {
     "data": {
      "text/plain": [
       "[{'regularopeninghours': \"['Monday: 11:30\\\\u202fAM\\\\u2009–\\\\u200910:30\\\\u202fPM', 'Tuesday: 11:30\\\\u202fAM\\\\u2009–\\\\u200910:30\\\\u202fPM', 'Wednesday: 11:30\\\\u202fAM\\\\u2009–\\\\u200910:30\\\\u202fPM', 'Thursday: 11:30\\\\u202fAM\\\\u2009–\\\\u200910:30\\\\u202fPM', 'Friday: 11:30\\\\u202fAM\\\\u2009–\\\\u200910:30\\\\u202fPM', 'Saturday: 11:30\\\\u202fAM\\\\u2009–\\\\u200910:30\\\\u202fPM', 'Sunday: 11:30\\\\u202fAM\\\\u2009–\\\\u200910:30\\\\u202fPM']\",\n",
       "  'websiteuri': 'https://www.kintonramen.com/location/kinton-ramen-yonge-eglinton/?utm_source=google&utm_medium=organic&utm_campaign=gbp-listing&utm_content=kinton-ramen-yonge-eglinton',\n",
       "  'primarytype': 'ramen_restaurant',\n",
       "  'reviews': 'This restaurant offers a vibrant dining experience, particularly noted during dinner with friends, highlighted by their tasty veg gyoza served with a tangy sauce. The main attraction is their ramen, featuring options like Spicy Beef, Spicy Chicken, and Spicy Veg; many reviewers prefer the Spicy Beef and Veg for their robust flavors, while the Spicy Chicken is seen as less impactful. The pork donburi also received mixed feedback, praised for its generous portion but critiqued for being overly mayonnaise-heavy despite the well-cooked pork. For dessert, diners enjoyed Green Tea Ice Cream and Mango and Sesame Cheesecake, which added a sweet finish to the meal. The ambiance on weekdays is calm and relaxing, making it a nice spot to unwind. Guests appreciated the unique offerings, including gluten-free potato noodles for those with dietary restrictions. A particularly favorite dish is the Spicy Vegetable ramen, celebrated for its healing properties when feeling under the weather. Overall, the restaurant has garnered positive feedback for its flavors and service, making it a recommended choice for both novice and experienced ramen enthusiasts.',\n",
       "  'nationalphonenumber': '(647) 340-5933',\n",
       "  'editorialsummary': ' ',\n",
       "  'displayname': 'KINTON RAMEN YONGE & EGLINTON',\n",
       "  'rating': 4.5,\n",
       "  'id': 'ChIJ_1dNSzszK4gRz11-X_bYNQY',\n",
       "  'formattedaddress': '90 Eglinton Ave E Unit 108, Toronto, ON M4P 2Y3, Canada'},\n",
       " {'regularopeninghours': \"['Monday: 11:30\\\\u202fAM\\\\u2009–\\\\u200910:30\\\\u202fPM', 'Tuesday: 11:30\\\\u202fAM\\\\u2009–\\\\u200910:30\\\\u202fPM', 'Wednesday: 11:30\\\\u202fAM\\\\u2009–\\\\u200910:30\\\\u202fPM', 'Thursday: 11:30\\\\u202fAM\\\\u2009–\\\\u200910:30\\\\u202fPM', 'Friday: 11:30\\\\u202fAM\\\\u2009–\\\\u200910:30\\\\u202fPM', 'Saturday: 11:30\\\\u202fAM\\\\u2009–\\\\u200910:30\\\\u202fPM', 'Sunday: 11:30\\\\u202fAM\\\\u2009–\\\\u200910:30\\\\u202fPM']\",\n",
       "  'websiteuri': 'https://www.kintonramen.com/location/kinton-ramen-church/?utm_source=google&utm_medium=organic&utm_campaign=gbp-listing&utm_content=kinton-ramen-church',\n",
       "  'primarytype': 'ramen_restaurant',\n",
       "  'reviews': 'Kinton Ramen is a standout destination for delicious ramen, offering a range of options perfect for lunch or dinner. Many diners rave about the signature Pork Spicy Garlic ramen, praised for its garlicky broth and perfectly chewy noodles, although some prefer a softer texture. Others have enjoyed the Chicken Spicy Jalapeño ramen, which boasts a flavorful soup base and impressive spice levels that enhance the dining experience. The Beef Mazemen and Pork Miso also receive commendations for their quality and quick service. Additionally, the Pork Gyoza, with its crispy exterior and savory filling, is a must-try. The atmosphere is described as welcoming, with attentive staff like Hayley providing friendly service. Special summer offerings like the intense matcha ice cream have also delighted guests. Overall, Kinton Ramen comes highly recommended for those wanting to enjoy authentic Japanese cuisine in Toronto.',\n",
       "  'nationalphonenumber': '(647) 348-8555',\n",
       "  'editorialsummary': ' ',\n",
       "  'displayname': 'KINTON RAMEN',\n",
       "  'rating': 4.5,\n",
       "  'id': 'ChIJYaqd4ErL1IkR2txWUHdjHEU',\n",
       "  'formattedaddress': '396 Church St, Toronto, ON M5B 2A2, Canada'},\n",
       " {'regularopeninghours': \"['Monday: 5:00\\\\u202fPM\\\\u2009–\\\\u20092:00\\\\u202fAM', 'Tuesday: 5:00\\\\u202fPM\\\\u2009–\\\\u20092:00\\\\u202fAM', 'Wednesday: 5:00\\\\u202fPM\\\\u2009–\\\\u20092:00\\\\u202fAM', 'Thursday: 5:00\\\\u202fPM\\\\u2009–\\\\u20092:00\\\\u202fAM', 'Friday: 5:00\\\\u202fPM\\\\u2009–\\\\u20093:00\\\\u202fAM', 'Saturday: 5:00\\\\u202fPM\\\\u2009–\\\\u20093:00\\\\u202fAM', 'Sunday: Closed']\",\n",
       "  'websiteuri': ' ',\n",
       "  'primarytype': 'korean_restaurant',\n",
       "  'reviews': 'This vibrant and atmospheric Korean restaurant offers a lively dining experience, making it an excellent choice for dinner or a casual night out. Guests rave about the friendly service and accommodating staff, even for large groups, ensuring everyone has a great time. Popular dishes enjoyed include sweet corn, spicy rice cakes, spicy chicken, and the highly praised corn cheese and spicy rosé tteokbokki. Although some diners noted that certain entrées, like the spicy pork belly, were missing traditional accompaniments like rice, they still appreciated the overall quality of the food. The restaurant boasts a wide selection of soju and cocktails, enhancing the fun, trendy vibe. While some patrons tried Makgeolli and found it less appealing, the consensus remains that the soju is a must-try. With fantastic decor, presentation, and music, this spot is perfect for those seeking a memorable dining experience in Toronto. Overall, customers are enthusiastic about returning for more delicious dishes and drinks.',\n",
       "  'nationalphonenumber': '(416) 901-0678',\n",
       "  'editorialsummary': ' ',\n",
       "  'displayname': 'Mapo Pocha Soju Bar',\n",
       "  'rating': 4.6,\n",
       "  'id': 'ChIJOXW2lfs1K4gRcrgBR7kFw7Y',\n",
       "  'formattedaddress': '680 Bloor St W, Toronto, ON M6G 1L2, Canada'},\n",
       " {'regularopeninghours': \"['Monday: 10:00\\\\u202fAM\\\\u2009–\\\\u20094:00\\\\u202fPM', 'Tuesday: 10:00\\\\u202fAM\\\\u2009–\\\\u20094:00\\\\u202fPM', 'Wednesday: 10:00\\\\u202fAM\\\\u2009–\\\\u20094:00\\\\u202fPM', 'Thursday: 10:00\\\\u202fAM\\\\u2009–\\\\u20094:00\\\\u202fPM', 'Friday: 10:00\\\\u202fAM\\\\u2009–\\\\u20094:00\\\\u202fPM', 'Saturday: Closed', 'Sunday: Closed']\",\n",
       "  'websiteuri': ' ',\n",
       "  'primarytype': 'thai_restaurant',\n",
       "  'reviews': 'This restaurant is a popular spot for lunch, known for its affordable and hearty noodle dishes. Patrons often recommend the Guilin noodles with dan dan sauce, spicy soup, and the beef brisket Shanghai noodles, which are both satisfying choices. The spicy beef noodle soup has been praised for its tender, flavorful braised beef, although the soup could use improvement. For those looking for Thai options, the Pad Thai is a crowd favorite, offering bouncy rice noodles accompanied by bean sprouts and green onions, but it lacks traditional ingredients like egg and dried shrimp, and tends to be overly saucy. The Pad See Ew, while cooked to order, suffers from being soggy and too sweet, missing the authentic smoky flavor. However, the Mango Salad has received criticism for being overwhelmingly sweet with little taste of mango, making it less appealing. Overall, the service is noted for being fast and efficient, making it a suitable choice for office workers nearby looking for a quick meal.',\n",
       "  'nationalphonenumber': '(416) 360-6688',\n",
       "  'editorialsummary': ' ',\n",
       "  'displayname': 'Ruby Thai',\n",
       "  'rating': 3.3,\n",
       "  'id': 'ChIJG-7wXs00K4gRkLcJ2xAgHP0',\n",
       "  'formattedaddress': '130 King St W, Toronto, ON M5X 1A9, Canada'},\n",
       " {'regularopeninghours': \"['Monday: 5:00\\\\u2009–\\\\u20099:30\\\\u202fPM', 'Tuesday: 5:00\\\\u2009–\\\\u20099:30\\\\u202fPM', 'Wednesday: 5:00\\\\u2009–\\\\u20099:30\\\\u202fPM', 'Thursday: 5:00\\\\u2009–\\\\u200910:00\\\\u202fPM', 'Friday: 5:00\\\\u2009–\\\\u200910:00\\\\u202fPM', 'Saturday: 5:00\\\\u2009–\\\\u200910:00\\\\u202fPM', 'Sunday: 5:00\\\\u2009–\\\\u20099:30\\\\u202fPM']\",\n",
       "  'websiteuri': 'http://www.littlesisterto.com/',\n",
       "  'primarytype': 'indonesian_restaurant',\n",
       "  'reviews': 'This restaurant offers an exceptional dining experience with a fantastic atmosphere that is cozy and inviting, making it ideal for relaxing meals. Guests have praised the attentive and welcoming staff, who provide great recommendations for both food and drinks. The menu boasts a variety of flavorful dishes; highlights include the delicious lamb skewers, inviting fried chicken, and the savory pork belly paired with tasty fried rice. Diners have particularly enjoyed the unique whole lettuce wraps, available either rolled individually or as a platter. For those visiting for drinks, the gin-based spicy cocktail is a popular choice that complements the rich flavors of the meals. The ambiance is perfect for dates, enhancing the overall dining experience. With high-quality cuisine and a positive vibe, this hidden gem truly exceeds expectations and encourages repeat visits.',\n",
       "  'nationalphonenumber': '(416) 488-2031',\n",
       "  'editorialsummary': 'Spicy Indonesian snacks, satays & plates served in a funky space with Balinese decor touches.',\n",
       "  'displayname': 'Little Sister Indonesian Food Bar',\n",
       "  'rating': 4.4,\n",
       "  'id': 'ChIJ0eqGSjkzK4gRWlA-wNbfEoA',\n",
       "  'formattedaddress': '2031 Yonge St, Toronto, ON M4S 2A2, Canada'}]"
      ]
     },
     "execution_count": 50,
     "metadata": {},
     "output_type": "execute_result"
    }
   ],
   "source": [
    "elastic_search_knn('reviews_vector', v_q)"
   ]
  },
  {
   "cell_type": "code",
   "execution_count": null,
   "id": "1b6aa528-85fa-4cbc-9ffb-0b301a6d57c9",
   "metadata": {},
   "outputs": [],
   "source": []
  },
  {
   "cell_type": "markdown",
   "id": "f721c328-b2a0-4908-b57e-b3e8985eca6b",
   "metadata": {},
   "source": [
    "## Finding the best parameters"
   ]
  },
  {
   "cell_type": "code",
   "execution_count": 24,
   "id": "e680e39d-d31a-4851-af43-f369bec4be16",
   "metadata": {},
   "outputs": [],
   "source": [
    "df_validation = df_question[:1000]\n",
    "df_test = df_question[1000:]"
   ]
  },
  {
   "cell_type": "code",
   "execution_count": 25,
   "id": "c30d3579-5136-4260-8587-f96aa617d453",
   "metadata": {},
   "outputs": [],
   "source": [
    "import random\n",
    "\n",
    "def simple_optimize(param_ranges, objective_function, n_iterations=10):\n",
    "    best_params = None\n",
    "    best_score = float('-inf')  # Assuming we're minimizing. Use float('-inf') if maximizing.\n",
    "\n",
    "    for _ in range(n_iterations):\n",
    "        # Generate random parameters\n",
    "        current_params = {}\n",
    "        for param, (min_val, max_val) in param_ranges.items():\n",
    "            if isinstance(min_val, int) and isinstance(max_val, int):\n",
    "                current_params[param] = random.randint(min_val, max_val)\n",
    "            else:\n",
    "                current_params[param] = random.uniform(min_val, max_val)\n",
    "        \n",
    "        # Evaluate the objective function\n",
    "        current_score = objective_function(current_params)\n",
    "        \n",
    "        # Update best if current is better\n",
    "        if current_score > best_score:  # Change to > if maximizing\n",
    "            best_score = current_score\n",
    "            best_params = current_params\n",
    "    \n",
    "    return best_params, best_score"
   ]
  },
  {
   "cell_type": "code",
   "execution_count": 26,
   "id": "0ea4e8f5-f067-482a-93f4-801d559756bf",
   "metadata": {},
   "outputs": [],
   "source": [
    "gt_val = df_validation.to_dict(orient='records')"
   ]
  },
  {
   "cell_type": "code",
   "execution_count": 27,
   "id": "9d52fdb6-d9aa-4a5f-9fef-748486a13d0f",
   "metadata": {},
   "outputs": [],
   "source": [
    "def minsearch_search(query, boost=None):\n",
    "    if boost is None:\n",
    "        boost = {}\n",
    "\n",
    "    results = index.search(\n",
    "        query=query,\n",
    "        filter_dict={},\n",
    "        boost_dict=boost,\n",
    "        num_results=10\n",
    "    )\n",
    "\n",
    "    return results"
   ]
  },
  {
   "cell_type": "code",
   "execution_count": 28,
   "id": "59b0c7ba-00c8-44e1-9202-9d85454cb7bf",
   "metadata": {},
   "outputs": [
    {
     "data": {
      "text/plain": [
       "{'id': 'ChIJ2e-AEyMzK4gRC3Ta0xpNT2s',\n",
       " 'nationalphonenumber': '(416) 322-7111',\n",
       " 'formattedaddress': '2363 Yonge St, Toronto, ON M4P 2C8, Canada',\n",
       " 'rating': 4.3,\n",
       " 'websiteuri': 'https://www.facebook.com/marsuptown/',\n",
       " 'regularopeninghours': \"['Monday: 7:00\\\\u202fAM\\\\u2009–\\\\u20094:00\\\\u202fPM', 'Tuesday: 7:00\\\\u202fAM\\\\u2009–\\\\u20094:00\\\\u202fPM', 'Wednesday: 7:00\\\\u202fAM\\\\u2009–\\\\u20094:00\\\\u202fPM', 'Thursday: 7:00\\\\u202fAM\\\\u2009–\\\\u20099:00\\\\u202fPM', 'Friday: 7:00\\\\u202fAM\\\\u2009–\\\\u20099:00\\\\u202fPM', 'Saturday: 7:00\\\\u202fAM\\\\u2009–\\\\u20099:00\\\\u202fPM', 'Sunday: 7:00\\\\u202fAM\\\\u2009–\\\\u20094:00\\\\u202fPM']\",\n",
       " 'displayname': 'Mars Diner',\n",
       " 'primarytype': 'american_restaurant',\n",
       " 'editorialsummary': 'Straightforward eatery with an old-school vibe for diner-style fare from eggs to burgers to pie.',\n",
       " 'reviews': 'This restaurant is a beloved family spot that offers a delightful retro experience reminiscent of 60s-style American diners. Known for its fantastic value, the meals are generously portioned and freshly prepared in an open kitchen, making it a cozy choice for breakfast and brunch. Guests rave about the perfect over-easy eggs, delectable home fries, and succulent sausage, all complemented by some of the best pancakes they’ve ever tasted—light and fluffy without being overly sweet. For those seeking savory options, the eggs benedict garners high praise as well. The inviting atmosphere, combined with a classic diner vibe enhanced by a nostalgic music playlist, creates a charming setting for dining. Additionally, fresh fruit toppings on the waffles add a touch of brightness to the sweet offerings. With excellent service and a welcoming ambiance, this restaurant stands out as the perfect place to enjoy a hearty and delicious morning meal.'}"
      ]
     },
     "execution_count": 28,
     "metadata": {},
     "output_type": "execute_result"
    }
   ],
   "source": [
    "documents[0]"
   ]
  },
  {
   "cell_type": "code",
   "execution_count": 29,
   "id": "e3758daf-f631-4c6e-adf8-a446d2fd0c87",
   "metadata": {},
   "outputs": [],
   "source": [
    "param_ranges = {\n",
    "    'displayname': (0.0, 3.0),\n",
    "    'primarytype': (0.0, 3.0),\n",
    "    'editorialsummary': (0.0, 3.0),\n",
    "    'reviews': (0.0, 3.0),\n",
    "}\n",
    "\n",
    "def objective(boost_params):\n",
    "    def search_function(q):\n",
    "        return minsearch_search(q['queries'], boost_params)\n",
    "\n",
    "    results = evaluate(gt_val, search_function)\n",
    "    return results['mrr']"
   ]
  },
  {
   "cell_type": "code",
   "execution_count": 30,
   "id": "62e9c9ba-6247-41d4-9879-ffa52e9292ee",
   "metadata": {},
   "outputs": [
    {
     "data": {
      "application/vnd.jupyter.widget-view+json": {
       "model_id": "7e5f9bcb68b3498e8951837c8ae5804a",
       "version_major": 2,
       "version_minor": 0
      },
      "text/plain": [
       "  0%|          | 0/1000 [00:00<?, ?it/s]"
      ]
     },
     "metadata": {},
     "output_type": "display_data"
    },
    {
     "data": {
      "application/vnd.jupyter.widget-view+json": {
       "model_id": "c660571bc1474b95a76f87cdaf4dcd0f",
       "version_major": 2,
       "version_minor": 0
      },
      "text/plain": [
       "  0%|          | 0/1000 [00:00<?, ?it/s]"
      ]
     },
     "metadata": {},
     "output_type": "display_data"
    },
    {
     "data": {
      "application/vnd.jupyter.widget-view+json": {
       "model_id": "3657646863c74de591c08f78542ff748",
       "version_major": 2,
       "version_minor": 0
      },
      "text/plain": [
       "  0%|          | 0/1000 [00:00<?, ?it/s]"
      ]
     },
     "metadata": {},
     "output_type": "display_data"
    },
    {
     "data": {
      "application/vnd.jupyter.widget-view+json": {
       "model_id": "f62c418912fb47d6af9e549a4d36601a",
       "version_major": 2,
       "version_minor": 0
      },
      "text/plain": [
       "  0%|          | 0/1000 [00:00<?, ?it/s]"
      ]
     },
     "metadata": {},
     "output_type": "display_data"
    },
    {
     "data": {
      "application/vnd.jupyter.widget-view+json": {
       "model_id": "78ee60678a8c4b7cbe001bd2e81d6578",
       "version_major": 2,
       "version_minor": 0
      },
      "text/plain": [
       "  0%|          | 0/1000 [00:00<?, ?it/s]"
      ]
     },
     "metadata": {},
     "output_type": "display_data"
    },
    {
     "data": {
      "application/vnd.jupyter.widget-view+json": {
       "model_id": "b016ab8ca0c24ff4ab8b131fc20c1048",
       "version_major": 2,
       "version_minor": 0
      },
      "text/plain": [
       "  0%|          | 0/1000 [00:00<?, ?it/s]"
      ]
     },
     "metadata": {},
     "output_type": "display_data"
    },
    {
     "data": {
      "application/vnd.jupyter.widget-view+json": {
       "model_id": "00a43ca2dcad4cbe95d99bb224565094",
       "version_major": 2,
       "version_minor": 0
      },
      "text/plain": [
       "  0%|          | 0/1000 [00:00<?, ?it/s]"
      ]
     },
     "metadata": {},
     "output_type": "display_data"
    },
    {
     "data": {
      "application/vnd.jupyter.widget-view+json": {
       "model_id": "cc1469d22ee441738f7b19360df7b34b",
       "version_major": 2,
       "version_minor": 0
      },
      "text/plain": [
       "  0%|          | 0/1000 [00:00<?, ?it/s]"
      ]
     },
     "metadata": {},
     "output_type": "display_data"
    },
    {
     "data": {
      "application/vnd.jupyter.widget-view+json": {
       "model_id": "942ea88b144649b0807a56771aefde99",
       "version_major": 2,
       "version_minor": 0
      },
      "text/plain": [
       "  0%|          | 0/1000 [00:00<?, ?it/s]"
      ]
     },
     "metadata": {},
     "output_type": "display_data"
    },
    {
     "data": {
      "application/vnd.jupyter.widget-view+json": {
       "model_id": "5e54f4888f9d45acb9a72090b7a89704",
       "version_major": 2,
       "version_minor": 0
      },
      "text/plain": [
       "  0%|          | 0/1000 [00:00<?, ?it/s]"
      ]
     },
     "metadata": {},
     "output_type": "display_data"
    },
    {
     "data": {
      "application/vnd.jupyter.widget-view+json": {
       "model_id": "82e152023bd84be289ba80a45ec13718",
       "version_major": 2,
       "version_minor": 0
      },
      "text/plain": [
       "  0%|          | 0/1000 [00:00<?, ?it/s]"
      ]
     },
     "metadata": {},
     "output_type": "display_data"
    },
    {
     "data": {
      "application/vnd.jupyter.widget-view+json": {
       "model_id": "7a5f64556c37409d9802b099d4da0ac1",
       "version_major": 2,
       "version_minor": 0
      },
      "text/plain": [
       "  0%|          | 0/1000 [00:00<?, ?it/s]"
      ]
     },
     "metadata": {},
     "output_type": "display_data"
    },
    {
     "data": {
      "application/vnd.jupyter.widget-view+json": {
       "model_id": "6e8110e7166342c8bc6cd5ff6af83859",
       "version_major": 2,
       "version_minor": 0
      },
      "text/plain": [
       "  0%|          | 0/1000 [00:00<?, ?it/s]"
      ]
     },
     "metadata": {},
     "output_type": "display_data"
    },
    {
     "data": {
      "application/vnd.jupyter.widget-view+json": {
       "model_id": "c0247912ee9043cf87ee015974b4828c",
       "version_major": 2,
       "version_minor": 0
      },
      "text/plain": [
       "  0%|          | 0/1000 [00:00<?, ?it/s]"
      ]
     },
     "metadata": {},
     "output_type": "display_data"
    },
    {
     "data": {
      "application/vnd.jupyter.widget-view+json": {
       "model_id": "62ed06bc72ca49138904a2daf5d224cc",
       "version_major": 2,
       "version_minor": 0
      },
      "text/plain": [
       "  0%|          | 0/1000 [00:00<?, ?it/s]"
      ]
     },
     "metadata": {},
     "output_type": "display_data"
    },
    {
     "data": {
      "application/vnd.jupyter.widget-view+json": {
       "model_id": "c3887d6567fe40ab8fe795193b91ba4f",
       "version_major": 2,
       "version_minor": 0
      },
      "text/plain": [
       "  0%|          | 0/1000 [00:00<?, ?it/s]"
      ]
     },
     "metadata": {},
     "output_type": "display_data"
    },
    {
     "data": {
      "application/vnd.jupyter.widget-view+json": {
       "model_id": "d791350ef02d436ba6e1d96081776655",
       "version_major": 2,
       "version_minor": 0
      },
      "text/plain": [
       "  0%|          | 0/1000 [00:00<?, ?it/s]"
      ]
     },
     "metadata": {},
     "output_type": "display_data"
    },
    {
     "data": {
      "application/vnd.jupyter.widget-view+json": {
       "model_id": "fa8e48b6a83e42809e8cd22a154fd0af",
       "version_major": 2,
       "version_minor": 0
      },
      "text/plain": [
       "  0%|          | 0/1000 [00:00<?, ?it/s]"
      ]
     },
     "metadata": {},
     "output_type": "display_data"
    },
    {
     "data": {
      "application/vnd.jupyter.widget-view+json": {
       "model_id": "26b012a024bc483e883d7c40b69db1e9",
       "version_major": 2,
       "version_minor": 0
      },
      "text/plain": [
       "  0%|          | 0/1000 [00:00<?, ?it/s]"
      ]
     },
     "metadata": {},
     "output_type": "display_data"
    },
    {
     "data": {
      "application/vnd.jupyter.widget-view+json": {
       "model_id": "db6a899be6dc44b78505e510f0fa7366",
       "version_major": 2,
       "version_minor": 0
      },
      "text/plain": [
       "  0%|          | 0/1000 [00:00<?, ?it/s]"
      ]
     },
     "metadata": {},
     "output_type": "display_data"
    },
    {
     "data": {
      "text/plain": [
       "({'displayname': 0.9280361750983652,\n",
       "  'primarytype': 0.6526625675538263,\n",
       "  'editorialsummary': 0.1523607227964593,\n",
       "  'reviews': 2.404307768018854},\n",
       " 0.5637051587301589)"
      ]
     },
     "execution_count": 30,
     "metadata": {},
     "output_type": "execute_result"
    }
   ],
   "source": [
    "simple_optimize(param_ranges, objective, n_iterations=20)"
   ]
  },
  {
   "cell_type": "code",
   "execution_count": 32,
   "id": "dcc52be2-d4e0-49f9-8a17-dd70b88def1f",
   "metadata": {},
   "outputs": [
    {
     "data": {
      "application/vnd.jupyter.widget-view+json": {
       "model_id": "41d721b05c6c4b5bb0bd366d5f9617fa",
       "version_major": 2,
       "version_minor": 0
      },
      "text/plain": [
       "  0%|          | 0/8205 [00:00<?, ?it/s]"
      ]
     },
     "metadata": {},
     "output_type": "display_data"
    },
    {
     "data": {
      "text/plain": [
       "{'hit_rate': 0.7074954296160878, 'mrr': 0.5425317508681313}"
      ]
     },
     "execution_count": 32,
     "metadata": {},
     "output_type": "execute_result"
    }
   ],
   "source": [
    "def minsearch_improved(query):\n",
    "    boost = {\n",
    "        'displayname': 1.07,\n",
    "        'primarytype': 0.14,\n",
    "        'editorialsummary': 1.25,\n",
    "        'reviews': 2.79\n",
    "    }\n",
    "\n",
    "    results = index.search(\n",
    "        query=query,\n",
    "        filter_dict={},\n",
    "        boost_dict=boost,\n",
    "        num_results=10\n",
    "    )\n",
    "\n",
    "    return results\n",
    "\n",
    "evaluate(ground_truth, lambda q: minsearch_improved(q['queries']))"
   ]
  },
  {
   "cell_type": "markdown",
   "id": "eac9a606-82d4-4c21-86c2-6b016bc2281b",
   "metadata": {},
   "source": [
    "## RAG evaluation"
   ]
  },
  {
   "cell_type": "code",
   "execution_count": 48,
   "id": "77fb9252-2a1d-492a-975b-aa4a2f10c59a",
   "metadata": {},
   "outputs": [],
   "source": [
    "prompt2_template = \"\"\"\n",
    "You are an expert evaluator for a RAG system.\n",
    "Your task is to analyze the relevance of the generated answer to the given query.\n",
    "It is very important that you consider that the request for the dish, atmosphere, \n",
    "type of meal, among others in the query is included in the response.\n",
    "Based on the relevance of the generated answer, you will classify it\n",
    "as \"NON_RELEVANT\", \"PARTLY_RELEVANT\", or \"RELEVANT\".\n",
    "\n",
    "Here is the data for evaluation:\n",
    "\n",
    "Question: {query}\n",
    "Generated Answer: {answer_llm}\n",
    "\n",
    "Please analyze the content and context of the generated answer in relation to the query\n",
    "and provide your evaluation in parsable JSON without using code blocks:\n",
    "\n",
    "{{\n",
    "  \"Relevance\": \"NON_RELEVANT\" | \"PARTLY_RELEVANT\" | \"RELEVANT\",\n",
    "  \"Explanation\": \"[Provide a brief explanation for your evaluation]\"\n",
    "}}\n",
    "\"\"\".strip()"
   ]
  },
  {
   "cell_type": "code",
   "execution_count": 55,
   "id": "24993459-a119-4e92-91ec-f57f9bc9ca60",
   "metadata": {},
   "outputs": [
    {
     "data": {
      "text/plain": [
       "8205"
      ]
     },
     "execution_count": 55,
     "metadata": {},
     "output_type": "execute_result"
    }
   ],
   "source": [
    "len(ground_truth)"
   ]
  },
  {
   "cell_type": "code",
   "execution_count": 56,
   "id": "07da70f4-5397-4c8e-9ca5-03284702e0e3",
   "metadata": {},
   "outputs": [],
   "source": [
    "record = ground_truth[0]"
   ]
  },
  {
   "cell_type": "code",
   "execution_count": 54,
   "id": "9dae982d-242c-401b-9e54-b85e827f500e",
   "metadata": {},
   "outputs": [
    {
     "name": "stdout",
     "output_type": "stream",
     "text": [
      "You are an expert evaluator for a RAG system.\n",
      "Your task is to analyze the relevance of the generated answer to the given query.\n",
      "It is very important that you consider that the request for the dish, atmosphere, \n",
      "type of meal, among others in the query is included in the response.\n",
      "Based on the relevance of the generated answer, you will classify it\n",
      "as \"NON_RELEVANT\", \"PARTLY_RELEVANT\", or \"RELEVANT\".\n",
      "\n",
      "Here is the data for evaluation:\n",
      "\n",
      "Question: I want a nice pleace where I can eat the spicy chicken wings\n",
      "Generated Answer: Here are three recommendations for enjoying spicy chicken wings in Toronto:\n",
      "\n",
      "1. Wow! Wing House  \n",
      "   Located at 772 College St, Toronto, ON M6G 1C6, Canada, this restaurant has a rating of 4.2. They offer an extensive selection of over 100 wing flavors, including the popular \"Devils Ranch Wings.\" The wings are known for their crispy exterior and juicy interior. You can reach them at (647) 547-5779.\n",
      "\n",
      "2. The Wing Shop  \n",
      "   Situated at 211 Queen St E, Toronto, ON M5A 1S2, Canada, The Wing Shop also holds a rating of 4.2. They're well-known for flavors like Spicy Garlic Parmesan and Mango Habanero wings. Customer reviews highlight the large, juicy portions. Their phone number is (416) 682-1010.\n",
      "\n",
      "3. Wild Wing  \n",
      "   This restaurant is found at 675 King St W, Toronto, ON M5V 1M9, Canada, with a rating of 3.7. Wild Wing offers a variety of mouthwatering sauces for their wings, making it a great spot for late-night cravings. You can contact them at (416) 777-9464. \n",
      "\n",
      "Enjoy your meal!\n",
      "\n",
      "Please analyze the content and context of the generated answer in relation to the query\n",
      "and provide your evaluation in parsable JSON without using code blocks:\n",
      "\n",
      "{\n",
      "  \"Relevance\": \"NON_RELEVANT\" | \"PARTLY_RELEVANT\" | \"RELEVANT\",\n",
      "  \"Explanation\": \"[Provide a brief explanation for your evaluation]\"\n",
      "}\n"
     ]
    }
   ],
   "source": [
    "prompt = prompt2_template.format(query=query, answer_llm=answer)\n",
    "print(prompt)"
   ]
  },
  {
   "cell_type": "code",
   "execution_count": 58,
   "id": "413a5484-04ff-48ec-90d7-201b375ee0de",
   "metadata": {},
   "outputs": [],
   "source": [
    "import json"
   ]
  },
  {
   "cell_type": "code",
   "execution_count": 59,
   "id": "b2f17d97-920f-4f7e-8b1c-0804e56f7d3c",
   "metadata": {},
   "outputs": [],
   "source": [
    "df_sample = df_question.sample(n=200, random_state=1)"
   ]
  },
  {
   "cell_type": "code",
   "execution_count": 60,
   "id": "f56bddd2-849b-4571-881b-5e6111d543e9",
   "metadata": {},
   "outputs": [],
   "source": [
    "sample = df_sample.to_dict(orient='records')"
   ]
  },
  {
   "cell_type": "code",
   "execution_count": 65,
   "id": "982b74e7-1c07-4e97-bfe9-e8bd93b1a80d",
   "metadata": {},
   "outputs": [
    {
     "data": {
      "application/vnd.jupyter.widget-view+json": {
       "model_id": "727db17a22e74e0ca10b670d090748c7",
       "version_major": 2,
       "version_minor": 0
      },
      "text/plain": [
       "  0%|          | 0/200 [00:00<?, ?it/s]"
      ]
     },
     "metadata": {},
     "output_type": "display_data"
    }
   ],
   "source": [
    "evaluations = []\n",
    "\n",
    "for record in tqdm(sample):\n",
    "    question = record['queries']\n",
    "    answer_llm = rag(question) \n",
    "\n",
    "    prompt = prompt2_template.format(\n",
    "        query=query,\n",
    "        answer_llm=answer\n",
    "    )\n",
    "\n",
    "    evaluation = llm(prompt)\n",
    "    evaluation = json.loads(evaluation)\n",
    "\n",
    "    evaluations.append((record, answer_llm, evaluation))"
   ]
  },
  {
   "cell_type": "code",
   "execution_count": 75,
   "id": "80b8d5d2-2444-47a7-a19c-c2b257bca060",
   "metadata": {},
   "outputs": [],
   "source": [
    "df_eval = pd.DataFrame(evaluations, columns=['record', 'answer', 'evaluation'])\n",
    "\n",
    "df_eval['id'] = df_eval.record.apply(lambda d: d['id'])\n",
    "df_eval['queries'] = df_eval.record.apply(lambda d: d['queries'])\n",
    "\n",
    "df_eval['relevance'] = df_eval.evaluation.apply(lambda d: d['Relevance'])\n",
    "df_eval['explanation'] = df_eval.evaluation.apply(lambda d: d['Explanation'])\n",
    "\n",
    "del df_eval['record']\n",
    "del df_eval['evaluation']"
   ]
  },
  {
   "cell_type": "code",
   "execution_count": 76,
   "id": "bf8f65fb-1d03-45f1-b888-173b9ad9321f",
   "metadata": {},
   "outputs": [
    {
     "data": {
      "text/plain": [
       "relevance\n",
       "RELEVANT    1.0\n",
       "Name: proportion, dtype: float64"
      ]
     },
     "execution_count": 76,
     "metadata": {},
     "output_type": "execute_result"
    }
   ],
   "source": [
    "df_eval.relevance.value_counts(normalize=True)"
   ]
  },
  {
   "cell_type": "code",
   "execution_count": 70,
   "id": "8633f410-c02d-4fee-b03d-b977c347dde2",
   "metadata": {},
   "outputs": [],
   "source": [
    "df_eval.to_csv('../data/rag-eval-gpt-4o-mini.csv', index=False)"
   ]
  },
  {
   "cell_type": "code",
   "execution_count": 73,
   "id": "0ef20135-37d0-4fe5-9492-cc13b74e04e0",
   "metadata": {},
   "outputs": [
    {
     "name": "stdout",
     "output_type": "stream",
     "text": [
      "Based on your request for a busy ice cream spot in downtown Toronto that accommodates different dietary needs and does not accept credit cards, I recommend the following:\n",
      "\n",
      "1. Hollywood Gelato\n",
      "   - Direction: 1640 Bayview Ave, Toronto, ON M4G 3B7, Canada\n",
      "   - Phone: (416) 544-9829\n",
      "   - Summary: This cafe-style ice cream shop offers 22 housemade gelato flavors, including options for various dietary needs. It’s often busy, creating a lively atmosphere. Note that they do not accept credit cards, so be prepared to pay with cash.\n",
      "\n",
      "2. The Fix Ice Cream Bar\n",
      "   - Direction: 207 Queens Quay W, Toronto, ON M5J 1A7, Canada\n",
      "   - Phone: (647) 977-2767\n",
      "   - Summary: Known for its creative and seasonal soft serve flavors, The Fix offers vegan options and has received positive reviews for its friendly service. It’s a popular spot near the harbor, but they also do not accept credit cards.\n",
      "\n",
      "3. Mizzica Gelateria & Cafe\n",
      "   - Direction: 307 Queen St W, Toronto, ON M5V 2A4, Canada\n",
      "   - Phone: (416) 225-2271\n",
      "   - Summary: This authentic Italian ice cream shop offers a variety of vegan options and unique flavors. It attracts a busy crowd, particularly on summer nights, and they do not accept credit cards, which is something to keep in mind.\n",
      "\n",
      "These spots are highly rated and well-known for their ice cream, making them great choices for your craving.\n"
     ]
    }
   ],
   "source": [
    "print(df_eval['answer'][4])"
   ]
  },
  {
   "cell_type": "code",
   "execution_count": 77,
   "id": "4c65dd0d-3147-41ad-bf70-feea591bc1c9",
   "metadata": {},
   "outputs": [],
   "source": [
    "df_sample = df_question.sample(n=20, random_state=1)\n",
    "sample = df_sample.to_dict(orient='records')"
   ]
  },
  {
   "cell_type": "code",
   "execution_count": 79,
   "id": "077dc13b-eebe-477c-a8a1-ecf62a4e5c04",
   "metadata": {},
   "outputs": [
    {
     "data": {
      "application/vnd.jupyter.widget-view+json": {
       "model_id": "cfb879bc629c4336beeed93066c2f91c",
       "version_major": 2,
       "version_minor": 0
      },
      "text/plain": [
       "  0%|          | 0/20 [00:00<?, ?it/s]"
      ]
     },
     "metadata": {},
     "output_type": "display_data"
    }
   ],
   "source": [
    "evaluations_gpt4o = []\n",
    "\n",
    "for record in tqdm(sample):\n",
    "    question = record['queries']\n",
    "    answer_llm = rag(question, #model='gpt-4o') \n",
    "\n",
    "    prompt = prompt2_template.format(\n",
    "        query=query,\n",
    "        answer_llm=answer\n",
    "    )\n",
    "\n",
    "    evaluation = llm(prompt)\n",
    "    evaluation = json.loads(evaluation)\n",
    "    \n",
    "    evaluations_gpt4o.append((record, answer_llm, evaluation))"
   ]
  },
  {
   "cell_type": "code",
   "execution_count": 80,
   "id": "81987b45-b42b-42c3-9a91-b268743b486d",
   "metadata": {},
   "outputs": [],
   "source": [
    "df_eval = pd.DataFrame(evaluations_gpt4o, columns=['record', 'answer', 'evaluation'])\n",
    "\n",
    "df_eval['id'] = df_eval.record.apply(lambda d: d['id'])\n",
    "df_eval['queries'] = df_eval.record.apply(lambda d: d['queries'])\n",
    "\n",
    "df_eval['relevance'] = df_eval.evaluation.apply(lambda d: d['Relevance'])\n",
    "df_eval['explanation'] = df_eval.evaluation.apply(lambda d: d['Explanation'])\n",
    "\n",
    "del df_eval['record']\n",
    "del df_eval['evaluation']"
   ]
  },
  {
   "cell_type": "code",
   "execution_count": 81,
   "id": "8f1b87e6-d8d5-4780-8307-a6098858dc97",
   "metadata": {},
   "outputs": [
    {
     "data": {
      "text/plain": [
       "relevance\n",
       "RELEVANT    20\n",
       "Name: count, dtype: int64"
      ]
     },
     "execution_count": 81,
     "metadata": {},
     "output_type": "execute_result"
    }
   ],
   "source": [
    "df_eval.relevance.value_counts()"
   ]
  },
  {
   "cell_type": "code",
   "execution_count": 82,
   "id": "cba5f4d5-1d9a-4973-8633-3eb0fc5ddc4e",
   "metadata": {},
   "outputs": [
    {
     "data": {
      "text/plain": [
       "relevance\n",
       "RELEVANT    1.0\n",
       "Name: proportion, dtype: float64"
      ]
     },
     "execution_count": 82,
     "metadata": {},
     "output_type": "execute_result"
    }
   ],
   "source": [
    "df_eval.relevance.value_counts(normalize=True)"
   ]
  },
  {
   "cell_type": "code",
   "execution_count": 83,
   "id": "05333a88-cbbb-476a-a903-dd4fa521c804",
   "metadata": {},
   "outputs": [],
   "source": [
    "df_eval.to_csv('../data/rag-eval-gpt-4o.csv', index=False)"
   ]
  },
  {
   "cell_type": "code",
   "execution_count": null,
   "id": "6b16dfac-ce6c-4968-98ff-9f3774b7198e",
   "metadata": {},
   "outputs": [],
   "source": []
  }
 ],
 "metadata": {
  "kernelspec": {
   "display_name": "Python 3 (ipykernel)",
   "language": "python",
   "name": "python3"
  },
  "language_info": {
   "codemirror_mode": {
    "name": "ipython",
    "version": 3
   },
   "file_extension": ".py",
   "mimetype": "text/x-python",
   "name": "python",
   "nbconvert_exporter": "python",
   "pygments_lexer": "ipython3",
   "version": "3.12.1"
  }
 },
 "nbformat": 4,
 "nbformat_minor": 5
}
