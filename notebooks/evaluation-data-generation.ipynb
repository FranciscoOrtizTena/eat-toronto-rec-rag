{
 "cells": [
  {
   "cell_type": "code",
   "execution_count": 1,
   "id": "0eaedcdd-77d0-49d0-afa7-680f2435df48",
   "metadata": {},
   "outputs": [],
   "source": [
    "import pandas as pd"
   ]
  },
  {
   "cell_type": "code",
   "execution_count": 2,
   "id": "58c66ba6-7e69-4c35-abe0-70721f52c351",
   "metadata": {},
   "outputs": [],
   "source": [
    "df = pd.read_csv('../data/clean_data.csv')\n",
    "df.columns = df.columns.str.lower()\n",
    "df = df.dropna(subset=['primarytype'])"
   ]
  },
  {
   "cell_type": "code",
   "execution_count": 3,
   "id": "9633e00b-72f9-4260-959f-c587f5ef931c",
   "metadata": {},
   "outputs": [],
   "source": [
    "documents = df.to_dict(orient='records')"
   ]
  },
  {
   "cell_type": "code",
   "execution_count": 4,
   "id": "02840b6d-de7f-4bff-94af-fc04d6499bfe",
   "metadata": {},
   "outputs": [],
   "source": [
    "from openai import OpenAI\n",
    "\n",
    "client = OpenAI()"
   ]
  },
  {
   "cell_type": "code",
   "execution_count": 5,
   "id": "ce12083b-5e3d-4ecd-a034-dcecc207c525",
   "metadata": {},
   "outputs": [],
   "source": [
    "prompt_template = \"\"\"\n",
    "You emulate a user of our Restaurant Suggestion Toronto assistant application.\n",
    "An application where a user writes a query about what he wants to eat in terms of dishes, atmosphere, type of food.\n",
    "Formulate 5 queries this user might ask based on a provided review.\n",
    "Make the queries specific to the given reviews.\n",
    "The record is the answer to the queries, and the queries should\n",
    "be complete and not too short. Avoid the use of questions. Use as few words as possible from the record. \n",
    "\n",
    "The record:\n",
    "\n",
    "primarytype: {primarytype}\n",
    "editorialsummary: {editorialsummary}\n",
    "reviews: {reviews}\n",
    "\n",
    "Provide the output in parsable JSON without using code blocks:\n",
    "\n",
    "{{\"queries\": [\"query1\", \"query2\", \"query3\", \"query4\", \"query5\"]}}\n",
    "\"\"\".strip()"
   ]
  },
  {
   "cell_type": "code",
   "execution_count": 6,
   "id": "770b7cd5-2243-4f51-8f50-36466b41d03b",
   "metadata": {},
   "outputs": [
    {
     "name": "stdout",
     "output_type": "stream",
     "text": [
      "You emulate a user of our Restaurant Suggestion Toronto assistant application.\n",
      "An application where a user writes a query about what he wants to eat in terms of dishes, atmosphere, type of food.\n",
      "Formulate 5 queries this user might ask based on a provided review.\n",
      "Make the queries specific to the given reviews.\n",
      "The record is the answer to the queries, and the queries should\n",
      "be complete and not too short. Avoid the use of questions. Use as few words as possible from the record. \n",
      "\n",
      "The record:\n",
      "\n",
      "primarytype: american_restaurant\n",
      "editorialsummary: Straightforward eatery with an old-school vibe for diner-style fare from eggs to burgers to pie.\n",
      "reviews: This restaurant is a beloved family spot that offers a delightful retro experience reminiscent of 60s-style American diners. Known for its fantastic value, the meals are generously portioned and freshly prepared in an open kitchen, making it a cozy choice for breakfast and brunch. Guests rave about the perfect over-easy eggs, delectable home fries, and succulent sausage, all complemented by some of the best pancakes they’ve ever tasted—light and fluffy without being overly sweet. For those seeking savory options, the eggs benedict garners high praise as well. The inviting atmosphere, combined with a classic diner vibe enhanced by a nostalgic music playlist, creates a charming setting for dining. Additionally, fresh fruit toppings on the waffles add a touch of brightness to the sweet offerings. With excellent service and a welcoming ambiance, this restaurant stands out as the perfect place to enjoy a hearty and delicious morning meal.\n",
      "\n",
      "Provide the output in parsable JSON without using code blocks:\n",
      "\n",
      "{\"queries\": [\"query1\", \"query2\", \"query3\", \"query4\", \"query5\"]}\n"
     ]
    }
   ],
   "source": [
    "prompt = prompt_template.format(**documents[0])\n",
    "print(prompt)"
   ]
  },
  {
   "cell_type": "code",
   "execution_count": 7,
   "id": "55bcb9e6-a1be-4e60-9620-a1ee1feb325f",
   "metadata": {},
   "outputs": [],
   "source": [
    "def llm(prompt, model='gpt-4o-mini'):\n",
    "    response = client.chat.completions.create(\n",
    "        model=model,\n",
    "        messages=[{\"role\": \"user\", \"content\": prompt}]\n",
    "    )\n",
    "    \n",
    "    return response.choices[0].message.content"
   ]
  },
  {
   "cell_type": "code",
   "execution_count": 8,
   "id": "e6692b66-83f8-40bb-a9a6-3439dbea83c5",
   "metadata": {},
   "outputs": [
    {
     "data": {
      "text/plain": [
       "'{\"queries\": [\"looking for a cozy breakfast spot with retro diner vibes and generous portions\", \"seeking delicious over-easy eggs and fluffy pancakes in a nostalgic setting\", \"wanting a family-friendly restaurant with great brunch options and welcoming ambiance\", \"interested in a place serving high-quality eggs benedict with fantastic service\", \"in search of a diner-style eatery with fresh fruit toppings on waffles and classic music\"]}'"
      ]
     },
     "execution_count": 8,
     "metadata": {},
     "output_type": "execute_result"
    }
   ],
   "source": [
    "queries = llm(prompt)\n",
    "queries"
   ]
  },
  {
   "cell_type": "code",
   "execution_count": 9,
   "id": "a0c520d4-c4a1-4d1b-9a46-f499dd86d7de",
   "metadata": {},
   "outputs": [],
   "source": [
    "import json"
   ]
  },
  {
   "cell_type": "code",
   "execution_count": 10,
   "id": "3d52d2cc-f0f3-4fdf-9bba-0165121d04a2",
   "metadata": {},
   "outputs": [
    {
     "data": {
      "text/plain": [
       "{'queries': ['looking for a cozy breakfast spot with retro diner vibes and generous portions',\n",
       "  'seeking delicious over-easy eggs and fluffy pancakes in a nostalgic setting',\n",
       "  'wanting a family-friendly restaurant with great brunch options and welcoming ambiance',\n",
       "  'interested in a place serving high-quality eggs benedict with fantastic service',\n",
       "  'in search of a diner-style eatery with fresh fruit toppings on waffles and classic music']}"
      ]
     },
     "execution_count": 10,
     "metadata": {},
     "output_type": "execute_result"
    }
   ],
   "source": [
    "json.loads(queries)"
   ]
  },
  {
   "cell_type": "code",
   "execution_count": 11,
   "id": "d8e9c084-e02d-4e81-b374-840f0f1ee4bf",
   "metadata": {},
   "outputs": [],
   "source": [
    "def generate_queries(doc):\n",
    "    prompt = prompt_template.format(**doc)\n",
    "\n",
    "    response = client.chat.completions.create(\n",
    "        model='gpt-4o-mini',\n",
    "        messages=[{\"role\": \"user\", \"content\": prompt}]\n",
    "    )\n",
    "\n",
    "    json_response = response.choices[0].message.content\n",
    "    return json_response"
   ]
  },
  {
   "cell_type": "code",
   "execution_count": 12,
   "id": "09becdc2-fc01-4ccd-bd52-210f9f45d61f",
   "metadata": {},
   "outputs": [],
   "source": [
    "from tqdm.auto import tqdm"
   ]
  },
  {
   "cell_type": "code",
   "execution_count": 13,
   "id": "d1a79e28-719a-4341-b3de-74795217a55f",
   "metadata": {},
   "outputs": [],
   "source": [
    "results = {}"
   ]
  },
  {
   "cell_type": "code",
   "execution_count": 14,
   "id": "f348f605-94f2-45a3-8d25-869813c63fd4",
   "metadata": {},
   "outputs": [
    {
     "data": {
      "application/vnd.jupyter.widget-view+json": {
       "model_id": "62c8e71b73074ce3b439001835e77861",
       "version_major": 2,
       "version_minor": 0
      },
      "text/plain": [
       "  0%|          | 0/2025 [00:00<?, ?it/s]"
      ]
     },
     "metadata": {},
     "output_type": "display_data"
    }
   ],
   "source": [
    "for doc in tqdm(documents): \n",
    "    doc_id = doc['id']\n",
    "    if doc_id in results:\n",
    "        continue\n",
    "\n",
    "    queries_raw = generate_queries(doc)\n",
    "    queries = json.loads(queries_raw)\n",
    "    results[doc_id] = queries['queries']"
   ]
  },
  {
   "cell_type": "code",
   "execution_count": 15,
   "id": "27d44e86-c3a5-4c4e-9c94-102ca04e8c5b",
   "metadata": {},
   "outputs": [],
   "source": [
    "final_results = []\n",
    "\n",
    "for doc_id, queries in results.items():\n",
    "    for q in queries:\n",
    "        final_results.append((doc_id, q))"
   ]
  },
  {
   "cell_type": "code",
   "execution_count": 16,
   "id": "739f9686-a458-4b4a-8c8d-354973e177ab",
   "metadata": {},
   "outputs": [
    {
     "data": {
      "text/plain": [
       "('ChIJ2e-AEyMzK4gRC3Ta0xpNT2s',\n",
       " 'looking for a retro diner experience with breakfast options')"
      ]
     },
     "execution_count": 16,
     "metadata": {},
     "output_type": "execute_result"
    }
   ],
   "source": [
    "final_results[0]"
   ]
  },
  {
   "cell_type": "code",
   "execution_count": 17,
   "id": "2c4d00fd-2eb6-4a45-8668-226517540ef8",
   "metadata": {},
   "outputs": [],
   "source": [
    "df_results = pd.DataFrame(final_results, columns=['id', 'queries'])"
   ]
  },
  {
   "cell_type": "code",
   "execution_count": 18,
   "id": "e39d71b1-c09c-4418-8677-fdd8a0b41c1a",
   "metadata": {},
   "outputs": [],
   "source": [
    "df_results.to_csv('../data/ground-truth-retrieval.csv', index=False)"
   ]
  },
  {
   "cell_type": "code",
   "execution_count": 19,
   "id": "c848ceba-79c1-43fc-baa7-7b65e74e17b9",
   "metadata": {},
   "outputs": [
    {
     "name": "stdout",
     "output_type": "stream",
     "text": [
      "id,queries\n",
      "ChIJ2e-AEyMzK4gRC3Ta0xpNT2s,looking for a retro diner experience with breakfast options\n",
      "ChIJ2e-AEyMzK4gRC3Ta0xpNT2s,want a cozy place for brunch with generous portions\n",
      "ChIJ2e-AEyMzK4gRC3Ta0xpNT2s,craving light and fluffy pancakes in a nostalgic setting\n",
      "ChIJ2e-AEyMzK4gRC3Ta0xpNT2s,interested in excellent service and welcoming ambiance for morning meals\n",
      "ChIJ2e-AEyMzK4gRC3Ta0xpNT2s,seeking savory dishes like eggs benedict and sausage\n",
      "ChIJv6F6Usw0K4gRQt20A8k3Jws,Looking for a barbecue restaurant with Southern-inspired dishes and a casual atmosphere.\n",
      "ChIJv6F6Usw0K4gRQt20A8k3Jws,Desiring a place with comfort food like smoked beef brisket and Korean Fried Cauliflower.\n",
      "ChIJv6F6Usw0K4gRQt20A8k3Jws,Searching for a restaurant suitable for both group dinners and romantic evenings.\n",
      "ChIJv6F6Usw0K4gRQt20A8k3Jws,Interested in trying unique cocktails like the Electric Island and Black Mamba Margarita.\n"
     ]
    }
   ],
   "source": [
    "!head ../data/ground-truth-retrieval.csv"
   ]
  },
  {
   "cell_type": "code",
   "execution_count": null,
   "id": "47a41d2f-4175-472f-bf3c-49eb5bd0020b",
   "metadata": {},
   "outputs": [],
   "source": []
  }
 ],
 "metadata": {
  "kernelspec": {
   "display_name": "Python 3 (ipykernel)",
   "language": "python",
   "name": "python3"
  },
  "language_info": {
   "codemirror_mode": {
    "name": "ipython",
    "version": 3
   },
   "file_extension": ".py",
   "mimetype": "text/x-python",
   "name": "python",
   "nbconvert_exporter": "python",
   "pygments_lexer": "ipython3",
   "version": "3.12.1"
  }
 },
 "nbformat": 4,
 "nbformat_minor": 5
}
